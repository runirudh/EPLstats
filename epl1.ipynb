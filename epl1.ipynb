{
 "cells": [
  {
   "cell_type": "markdown",
   "id": "cbe32504-cbba-41db-b226-e61d87cb5433",
   "metadata": {},
   "source": [
    "## EPL Data from link\n",
    "https://github.com/tara-nguyen/english-premier-league-datasets-for-10-seasons\n",
    "\n",
    "Description: EPL data of 10 seasons, with half time & full time score information for each game w/ dates.\n",
    "\n",
    "Aim: To explore the dataset & train a model to be able to predict the outcome of a new game played b/w the teams.\n",
    "\n"
   ]
  },
  {
   "cell_type": "code",
   "execution_count": 1,
   "id": "81be72df-3bc4-4f50-9381-0b8f915fd31a",
   "metadata": {},
   "outputs": [],
   "source": [
    "# libraries \n",
    "import numpy as np\n",
    "import pandas as pd\n",
    "import matplotlib.pyplot as plt\n",
    "import seaborn as sns\n",
    "import ipywidgets as widgets\n",
    "import bqplot as bq\n",
    "#pip install side-by-side\n",
    "from side_by_side import print_side_by_side\n",
    "\n",
    "from pandas.api.types import CategoricalDtype\n",
    "from sklearn import multioutput\n",
    "from sklearn.linear_model import LinearRegression\n",
    "from sklearn.model_selection import train_test_split\n",
    "from sklearn.metrics import mean_squared_error, r2_score\n",
    "\n",
    "from sklearn.preprocessing import StandardScaler\n",
    "from sklearn.tree import DecisionTreeClassifier\n",
    "from sklearn.metrics import confusion_matrix, accuracy_score, precision_recall_curve, classification_report\n",
    "\n",
    "from sklearn.utils import compute_class_weight\n",
    "import json as js\n"
   ]
  },
  {
   "cell_type": "code",
   "execution_count": 2,
   "id": "c1d93621-d1aa-4785-8678-26352d318969",
   "metadata": {},
   "outputs": [],
   "source": [
    "%matplotlib inline"
   ]
  },
  {
   "cell_type": "code",
   "execution_count": 3,
   "id": "482ef6c4-7a8a-46c4-b84f-5745107d7f24",
   "metadata": {},
   "outputs": [
    {
     "data": {
      "text/html": [
       "<div>\n",
       "<style scoped>\n",
       "    .dataframe tbody tr th:only-of-type {\n",
       "        vertical-align: middle;\n",
       "    }\n",
       "\n",
       "    .dataframe tbody tr th {\n",
       "        vertical-align: top;\n",
       "    }\n",
       "\n",
       "    .dataframe thead th {\n",
       "        text-align: right;\n",
       "    }\n",
       "</style>\n",
       "<table border=\"1\" class=\"dataframe\">\n",
       "  <thead>\n",
       "    <tr style=\"text-align: right;\">\n",
       "      <th></th>\n",
       "      <th>Season</th>\n",
       "      <th>Date</th>\n",
       "      <th>Referee</th>\n",
       "      <th>HomeTeam</th>\n",
       "      <th>AwayTeam</th>\n",
       "      <th>FullTime</th>\n",
       "      <th>Halftime</th>\n",
       "      <th>HomeGoals</th>\n",
       "      <th>HomeGoalsHalftime</th>\n",
       "      <th>HomeShots</th>\n",
       "      <th>...</th>\n",
       "      <th>HomeYellowCards</th>\n",
       "      <th>HomeRedCards</th>\n",
       "      <th>AwayGoals</th>\n",
       "      <th>AwayGoalsHalftime</th>\n",
       "      <th>AwayShots</th>\n",
       "      <th>AwayShotsOnTarget</th>\n",
       "      <th>AwayCorners</th>\n",
       "      <th>AwayFouls</th>\n",
       "      <th>AwayYellowCards</th>\n",
       "      <th>AwayRedCards</th>\n",
       "    </tr>\n",
       "  </thead>\n",
       "  <tbody>\n",
       "    <tr>\n",
       "      <th>0</th>\n",
       "      <td>2010/11</td>\n",
       "      <td>2010-08-14</td>\n",
       "      <td>M Dean</td>\n",
       "      <td>Aston Villa</td>\n",
       "      <td>West Ham</td>\n",
       "      <td>HomeWin</td>\n",
       "      <td>HomeWin</td>\n",
       "      <td>3</td>\n",
       "      <td>2</td>\n",
       "      <td>23</td>\n",
       "      <td>...</td>\n",
       "      <td>1</td>\n",
       "      <td>0</td>\n",
       "      <td>0</td>\n",
       "      <td>0</td>\n",
       "      <td>12</td>\n",
       "      <td>2</td>\n",
       "      <td>7</td>\n",
       "      <td>15</td>\n",
       "      <td>2</td>\n",
       "      <td>0</td>\n",
       "    </tr>\n",
       "    <tr>\n",
       "      <th>1</th>\n",
       "      <td>2010/11</td>\n",
       "      <td>2010-08-14</td>\n",
       "      <td>P Dowd</td>\n",
       "      <td>Blackburn</td>\n",
       "      <td>Everton</td>\n",
       "      <td>HomeWin</td>\n",
       "      <td>HomeWin</td>\n",
       "      <td>1</td>\n",
       "      <td>1</td>\n",
       "      <td>7</td>\n",
       "      <td>...</td>\n",
       "      <td>2</td>\n",
       "      <td>0</td>\n",
       "      <td>0</td>\n",
       "      <td>0</td>\n",
       "      <td>17</td>\n",
       "      <td>12</td>\n",
       "      <td>3</td>\n",
       "      <td>14</td>\n",
       "      <td>1</td>\n",
       "      <td>0</td>\n",
       "    </tr>\n",
       "  </tbody>\n",
       "</table>\n",
       "<p>2 rows × 23 columns</p>\n",
       "</div>"
      ],
      "text/plain": [
       "    Season        Date Referee     HomeTeam  AwayTeam FullTime Halftime  \\\n",
       "0  2010/11  2010-08-14  M Dean  Aston Villa  West Ham  HomeWin  HomeWin   \n",
       "1  2010/11  2010-08-14  P Dowd    Blackburn   Everton  HomeWin  HomeWin   \n",
       "\n",
       "   HomeGoals  HomeGoalsHalftime  HomeShots  ...  HomeYellowCards  \\\n",
       "0          3                  2         23  ...                1   \n",
       "1          1                  1          7  ...                2   \n",
       "\n",
       "   HomeRedCards  AwayGoals  AwayGoalsHalftime  AwayShots  AwayShotsOnTarget  \\\n",
       "0             0          0                  0         12                  2   \n",
       "1             0          0                  0         17                 12   \n",
       "\n",
       "   AwayCorners  AwayFouls  AwayYellowCards  AwayRedCards  \n",
       "0            7         15                2             0  \n",
       "1            3         14                1             0  \n",
       "\n",
       "[2 rows x 23 columns]"
      ]
     },
     "metadata": {},
     "output_type": "display_data"
    },
    {
     "data": {
      "text/html": [
       "<div>\n",
       "<style scoped>\n",
       "    .dataframe tbody tr th:only-of-type {\n",
       "        vertical-align: middle;\n",
       "    }\n",
       "\n",
       "    .dataframe tbody tr th {\n",
       "        vertical-align: top;\n",
       "    }\n",
       "\n",
       "    .dataframe thead th {\n",
       "        text-align: right;\n",
       "    }\n",
       "</style>\n",
       "<table border=\"1\" class=\"dataframe\">\n",
       "  <thead>\n",
       "    <tr style=\"text-align: right;\">\n",
       "      <th></th>\n",
       "      <th>Season</th>\n",
       "      <th>Date</th>\n",
       "      <th>Referee</th>\n",
       "      <th>HomeTeam</th>\n",
       "      <th>AwayTeam</th>\n",
       "      <th>FullTime</th>\n",
       "      <th>Halftime</th>\n",
       "      <th>HomeGoals</th>\n",
       "      <th>HomeGoalsHalftime</th>\n",
       "      <th>HomeShots</th>\n",
       "      <th>...</th>\n",
       "      <th>HomeYellowCards</th>\n",
       "      <th>HomeRedCards</th>\n",
       "      <th>AwayGoals</th>\n",
       "      <th>AwayGoalsHalftime</th>\n",
       "      <th>AwayShots</th>\n",
       "      <th>AwayShotsOnTarget</th>\n",
       "      <th>AwayCorners</th>\n",
       "      <th>AwayFouls</th>\n",
       "      <th>AwayYellowCards</th>\n",
       "      <th>AwayRedCards</th>\n",
       "    </tr>\n",
       "  </thead>\n",
       "  <tbody>\n",
       "    <tr>\n",
       "      <th>3798</th>\n",
       "      <td>2019/20</td>\n",
       "      <td>2020-07-26</td>\n",
       "      <td>P Bankes</td>\n",
       "      <td>Southampton</td>\n",
       "      <td>Sheffield United</td>\n",
       "      <td>HomeWin</td>\n",
       "      <td>AwayWin</td>\n",
       "      <td>3</td>\n",
       "      <td>0</td>\n",
       "      <td>13</td>\n",
       "      <td>...</td>\n",
       "      <td>0</td>\n",
       "      <td>0</td>\n",
       "      <td>1</td>\n",
       "      <td>1</td>\n",
       "      <td>5</td>\n",
       "      <td>3</td>\n",
       "      <td>1</td>\n",
       "      <td>16</td>\n",
       "      <td>1</td>\n",
       "      <td>0</td>\n",
       "    </tr>\n",
       "    <tr>\n",
       "      <th>3799</th>\n",
       "      <td>2019/20</td>\n",
       "      <td>2020-07-26</td>\n",
       "      <td>M Oliver</td>\n",
       "      <td>West Ham</td>\n",
       "      <td>Aston Villa</td>\n",
       "      <td>Draw</td>\n",
       "      <td>Draw</td>\n",
       "      <td>1</td>\n",
       "      <td>0</td>\n",
       "      <td>10</td>\n",
       "      <td>...</td>\n",
       "      <td>2</td>\n",
       "      <td>0</td>\n",
       "      <td>1</td>\n",
       "      <td>0</td>\n",
       "      <td>13</td>\n",
       "      <td>4</td>\n",
       "      <td>7</td>\n",
       "      <td>13</td>\n",
       "      <td>1</td>\n",
       "      <td>0</td>\n",
       "    </tr>\n",
       "  </tbody>\n",
       "</table>\n",
       "<p>2 rows × 23 columns</p>\n",
       "</div>"
      ],
      "text/plain": [
       "       Season        Date   Referee     HomeTeam          AwayTeam FullTime  \\\n",
       "3798  2019/20  2020-07-26  P Bankes  Southampton  Sheffield United  HomeWin   \n",
       "3799  2019/20  2020-07-26  M Oliver     West Ham       Aston Villa     Draw   \n",
       "\n",
       "     Halftime  HomeGoals  HomeGoalsHalftime  HomeShots  ...  HomeYellowCards  \\\n",
       "3798  AwayWin          3                  0         13  ...                0   \n",
       "3799     Draw          1                  0         10  ...                2   \n",
       "\n",
       "      HomeRedCards  AwayGoals  AwayGoalsHalftime  AwayShots  \\\n",
       "3798             0          1                  1          5   \n",
       "3799             0          1                  0         13   \n",
       "\n",
       "      AwayShotsOnTarget  AwayCorners  AwayFouls  AwayYellowCards  AwayRedCards  \n",
       "3798                  3            1         16                1             0  \n",
       "3799                  4            7         13                1             0  \n",
       "\n",
       "[2 rows x 23 columns]"
      ]
     },
     "metadata": {},
     "output_type": "display_data"
    }
   ],
   "source": [
    "plt.style.use('classic')\n",
    "pd.options.display.float_format = '{:.1f}'.format\n",
    "\n",
    "df = pd.read_csv('epl-allseasons-matchstats.csv')\n",
    "display(df.head(2), df.tail(2))"
   ]
  },
  {
   "cell_type": "code",
   "execution_count": 4,
   "id": "9fd659e7-6c98-44a9-8250-48072428c5ae",
   "metadata": {},
   "outputs": [
    {
     "data": {
      "text/plain": [
       "Season               object\n",
       "Date                 object\n",
       "Referee              object\n",
       "HomeTeam             object\n",
       "AwayTeam             object\n",
       "FullTime             object\n",
       "Halftime             object\n",
       "HomeGoals             int64\n",
       "HomeGoalsHalftime     int64\n",
       "HomeShots             int64\n",
       "HomeShotsOnTarget     int64\n",
       "HomeCorners           int64\n",
       "HomeFouls             int64\n",
       "HomeYellowCards       int64\n",
       "HomeRedCards          int64\n",
       "AwayGoals             int64\n",
       "AwayGoalsHalftime     int64\n",
       "AwayShots             int64\n",
       "AwayShotsOnTarget     int64\n",
       "AwayCorners           int64\n",
       "AwayFouls             int64\n",
       "AwayYellowCards       int64\n",
       "AwayRedCards          int64\n",
       "dtype: object"
      ]
     },
     "metadata": {},
     "output_type": "display_data"
    },
    {
     "data": {
      "text/plain": [
       "(3800, 23)"
      ]
     },
     "metadata": {},
     "output_type": "display_data"
    }
   ],
   "source": [
    "display(df.dtypes)\n",
    "display(df.shape)"
   ]
  },
  {
   "cell_type": "code",
   "execution_count": 5,
   "id": "f60cdaea-2466-42b8-b9bf-1881368d9399",
   "metadata": {},
   "outputs": [
    {
     "data": {
      "text/plain": [
       "Season               0\n",
       "Date                 0\n",
       "Referee              0\n",
       "HomeTeam             0\n",
       "AwayTeam             0\n",
       "FullTime             0\n",
       "Halftime             0\n",
       "HomeGoals            0\n",
       "HomeGoalsHalftime    0\n",
       "HomeShots            0\n",
       "HomeShotsOnTarget    0\n",
       "HomeCorners          0\n",
       "HomeFouls            0\n",
       "HomeYellowCards      0\n",
       "HomeRedCards         0\n",
       "AwayGoals            0\n",
       "AwayGoalsHalftime    0\n",
       "AwayShots            0\n",
       "AwayShotsOnTarget    0\n",
       "AwayCorners          0\n",
       "AwayFouls            0\n",
       "AwayYellowCards      0\n",
       "AwayRedCards         0\n",
       "dtype: int64"
      ]
     },
     "metadata": {},
     "output_type": "display_data"
    }
   ],
   "source": [
    "display(np.sum(df.isnull()))"
   ]
  },
  {
   "cell_type": "code",
   "execution_count": 6,
   "id": "4803a283-4d0a-4587-8f75-0ffa9ac1a4dc",
   "metadata": {
    "tags": []
   },
   "outputs": [],
   "source": [
    "df.Season = pd.Categorical(df.Season)\n",
    "df.HomeTeam = pd.Categorical(df.HomeTeam)\n",
    "df.Referee = pd.Categorical(df.Referee)\n",
    "df.AwayTeam = pd.Categorical(df.AwayTeam)\n",
    "df.FullTime = pd.Categorical(df.FullTime)\n",
    "df.Halftime = pd.Categorical(df.Halftime)"
   ]
  },
  {
   "cell_type": "code",
   "execution_count": 7,
   "id": "c50bc1c2-b68c-4102-a5c2-778f33bc780c",
   "metadata": {},
   "outputs": [
    {
     "data": {
      "text/plain": [
       "['2010/11', '2011/12', '2012/13', '2013/14', '2014/15', '2015/16', '2016/17', '2017/18', '2018/19', '2019/20']\n",
       "Categories (10, object): ['2010/11' < '2011/12' < '2012/13' < '2013/14' ... '2016/17' < '2017/18' < '2018/19' < '2019/20']"
      ]
     },
     "execution_count": 7,
     "metadata": {},
     "output_type": "execute_result"
    }
   ],
   "source": [
    "cat = CategoricalDtype(categories=df.Season.unique(), ordered = True)\n",
    "df.Season = df.Season.astype(cat);df.Season.unique() # since we are going to make predictions at some point, it serves better to have an ordered category of seasons based on relevance."
   ]
  },
  {
   "cell_type": "code",
   "execution_count": 8,
   "id": "84d4b970-e298-4ebf-9eaf-358d62795b6b",
   "metadata": {},
   "outputs": [
    {
     "data": {
      "text/html": [
       "<div>\n",
       "<style scoped>\n",
       "    .dataframe tbody tr th:only-of-type {\n",
       "        vertical-align: middle;\n",
       "    }\n",
       "\n",
       "    .dataframe tbody tr th {\n",
       "        vertical-align: top;\n",
       "    }\n",
       "\n",
       "    .dataframe thead th {\n",
       "        text-align: right;\n",
       "    }\n",
       "</style>\n",
       "<table border=\"1\" class=\"dataframe\">\n",
       "  <thead>\n",
       "    <tr style=\"text-align: right;\">\n",
       "      <th></th>\n",
       "      <th>Season</th>\n",
       "      <th>Referee</th>\n",
       "      <th>HomeTeam</th>\n",
       "      <th>AwayTeam</th>\n",
       "      <th>FullTime</th>\n",
       "      <th>Halftime</th>\n",
       "    </tr>\n",
       "  </thead>\n",
       "  <tbody>\n",
       "    <tr>\n",
       "      <th>0</th>\n",
       "      <td>2010/11</td>\n",
       "      <td>M Dean</td>\n",
       "      <td>Aston Villa</td>\n",
       "      <td>West Ham</td>\n",
       "      <td>HomeWin</td>\n",
       "      <td>HomeWin</td>\n",
       "    </tr>\n",
       "    <tr>\n",
       "      <th>1</th>\n",
       "      <td>2010/11</td>\n",
       "      <td>P Dowd</td>\n",
       "      <td>Blackburn</td>\n",
       "      <td>Everton</td>\n",
       "      <td>HomeWin</td>\n",
       "      <td>HomeWin</td>\n",
       "    </tr>\n",
       "  </tbody>\n",
       "</table>\n",
       "</div>"
      ],
      "text/plain": [
       "    Season Referee     HomeTeam  AwayTeam FullTime Halftime\n",
       "0  2010/11  M Dean  Aston Villa  West Ham  HomeWin  HomeWin\n",
       "1  2010/11  P Dowd    Blackburn   Everton  HomeWin  HomeWin"
      ]
     },
     "metadata": {},
     "output_type": "display_data"
    }
   ],
   "source": [
    "categorical = df.iloc[:,[0,2,3,4,5,6]]\n",
    "display(categorical.head(2))"
   ]
  },
  {
   "cell_type": "code",
   "execution_count": 9,
   "id": "b04367ab-17c0-4412-a55e-052aa8c90f3d",
   "metadata": {},
   "outputs": [
    {
     "data": {
      "text/plain": [
       "'Number of categories for categorical columns'"
      ]
     },
     "metadata": {},
     "output_type": "display_data"
    },
    {
     "data": {
      "text/plain": [
       "{'Season': 10,\n",
       " 'Referee': 35,\n",
       " 'HomeTeam': 36,\n",
       " 'AwayTeam': 36,\n",
       " 'FullTime': 3,\n",
       " 'Halftime': 3}"
      ]
     },
     "metadata": {},
     "output_type": "display_data"
    }
   ],
   "source": [
    "display('Number of categories for categorical columns',\n",
    "        {df.columns[i]: df.iloc[:,i].cat.categories.nunique() for i in np.array([0,2,3,4,5,6])})"
   ]
  },
  {
   "cell_type": "code",
   "execution_count": 10,
   "id": "097240a8-f1d1-4a26-9389-6447834b2407",
   "metadata": {},
   "outputs": [],
   "source": [
    "df.Date = pd.to_datetime(df.Date, infer_datetime_format=True)"
   ]
  },
  {
   "cell_type": "code",
   "execution_count": 11,
   "id": "edacf861-5577-46aa-b93f-e6954f2f6162",
   "metadata": {},
   "outputs": [
    {
     "data": {
      "text/plain": [
       "dtype('<M8[ns]')"
      ]
     },
     "metadata": {},
     "output_type": "display_data"
    },
    {
     "data": {
      "text/plain": [
       "0   2010-08-14\n",
       "1   2010-08-14\n",
       "Name: Date, dtype: datetime64[ns]"
      ]
     },
     "metadata": {},
     "output_type": "display_data"
    }
   ],
   "source": [
    "display(df.Date.dtype, df.Date.head(2)) "
   ]
  },
  {
   "cell_type": "code",
   "execution_count": 12,
   "id": "01f8c2b4-73d9-428e-8b68-9a185f0b1068",
   "metadata": {},
   "outputs": [
    {
     "data": {
      "text/plain": [
       "Season                     category\n",
       "Date                 datetime64[ns]\n",
       "Referee                    category\n",
       "HomeTeam                   category\n",
       "AwayTeam                   category\n",
       "FullTime                   category\n",
       "Halftime                   category\n",
       "HomeGoals                     int64\n",
       "HomeGoalsHalftime             int64\n",
       "HomeShots                     int64\n",
       "HomeShotsOnTarget             int64\n",
       "HomeCorners                   int64\n",
       "HomeFouls                     int64\n",
       "HomeYellowCards               int64\n",
       "HomeRedCards                  int64\n",
       "AwayGoals                     int64\n",
       "AwayGoalsHalftime             int64\n",
       "AwayShots                     int64\n",
       "AwayShotsOnTarget             int64\n",
       "AwayCorners                   int64\n",
       "AwayFouls                     int64\n",
       "AwayYellowCards               int64\n",
       "AwayRedCards                  int64\n",
       "dtype: object"
      ]
     },
     "execution_count": 12,
     "metadata": {},
     "output_type": "execute_result"
    }
   ],
   "source": [
    "df.dtypes"
   ]
  },
  {
   "cell_type": "markdown",
   "id": "c4a62fad-5f17-43e7-a363-703d835fb5cf",
   "metadata": {},
   "source": [
    "#### visualize club goals over seasons."
   ]
  },
  {
   "cell_type": "code",
   "execution_count": 13,
   "id": "dc177f2f-df86-4060-b241-0e59f781bb33",
   "metadata": {},
   "outputs": [
    {
     "data": {
      "text/plain": [
       "HomeTeam\n",
       "Man City      496\n",
       "Liverpool     407\n",
       "Arsenal       398\n",
       "Chelsea       386\n",
       "Man United    380\n",
       "Tottenham     351\n",
       "Everton       316\n",
       "Name: HomeGoals, dtype: int64"
      ]
     },
     "execution_count": 13,
     "metadata": {},
     "output_type": "execute_result"
    }
   ],
   "source": [
    "hometeam = df.groupby('HomeTeam')['HomeGoals'].sum().sort_values(ascending =False)\n",
    "hometeam.head(7)"
   ]
  },
  {
   "cell_type": "code",
   "execution_count": 14,
   "id": "ab65b92b-7fe0-47fd-a314-b6a3e208523d",
   "metadata": {},
   "outputs": [
    {
     "data": {
      "text/plain": [
       "AwayTeam\n",
       "Man City      362\n",
       "Liverpool     322\n",
       "Tottenham     306\n",
       "Chelsea       305\n",
       "Arsenal       304\n",
       "Man United    301\n",
       "Everton       212\n",
       "Name: AwayGoals, dtype: int64"
      ]
     },
     "execution_count": 14,
     "metadata": {},
     "output_type": "execute_result"
    }
   ],
   "source": [
    "awayteam = df.groupby('AwayTeam')['AwayGoals'].sum().sort_values(ascending=False);\n",
    "awayteam.head(7)"
   ]
  },
  {
   "cell_type": "code",
   "execution_count": 15,
   "id": "c27969f2-9349-4e3e-892b-c4fb6cf2b569",
   "metadata": {},
   "outputs": [
    {
     "data": {
      "text/html": [
       "<div>\n",
       "<style scoped>\n",
       "    .dataframe tbody tr th:only-of-type {\n",
       "        vertical-align: middle;\n",
       "    }\n",
       "\n",
       "    .dataframe tbody tr th {\n",
       "        vertical-align: top;\n",
       "    }\n",
       "\n",
       "    .dataframe thead th {\n",
       "        text-align: right;\n",
       "    }\n",
       "</style>\n",
       "<table border=\"1\" class=\"dataframe\">\n",
       "  <thead>\n",
       "    <tr style=\"text-align: right;\">\n",
       "      <th></th>\n",
       "      <th>HomeGoals</th>\n",
       "      <th>AwayGoals</th>\n",
       "    </tr>\n",
       "  </thead>\n",
       "  <tbody>\n",
       "    <tr>\n",
       "      <th>Man City</th>\n",
       "      <td>496</td>\n",
       "      <td>362</td>\n",
       "    </tr>\n",
       "    <tr>\n",
       "      <th>Liverpool</th>\n",
       "      <td>407</td>\n",
       "      <td>322</td>\n",
       "    </tr>\n",
       "    <tr>\n",
       "      <th>Arsenal</th>\n",
       "      <td>398</td>\n",
       "      <td>304</td>\n",
       "    </tr>\n",
       "    <tr>\n",
       "      <th>Chelsea</th>\n",
       "      <td>386</td>\n",
       "      <td>305</td>\n",
       "    </tr>\n",
       "    <tr>\n",
       "      <th>Man United</th>\n",
       "      <td>380</td>\n",
       "      <td>301</td>\n",
       "    </tr>\n",
       "  </tbody>\n",
       "</table>\n",
       "</div>"
      ],
      "text/plain": [
       "            HomeGoals  AwayGoals\n",
       "Man City          496        362\n",
       "Liverpool         407        322\n",
       "Arsenal           398        304\n",
       "Chelsea           386        305\n",
       "Man United        380        301"
      ]
     },
     "execution_count": 15,
     "metadata": {},
     "output_type": "execute_result"
    }
   ],
   "source": [
    "viz_df1 = pd.merge(hometeam, awayteam, left_index= True, right_index=True)\n",
    "viz_df1 = viz_df1.head(20); viz_df1.head()"
   ]
  },
  {
   "cell_type": "code",
   "execution_count": 16,
   "id": "7c0d2187-5a78-4349-a502-7af87d680a9e",
   "metadata": {},
   "outputs": [
    {
     "data": {
      "text/plain": [
       "[]"
      ]
     },
     "execution_count": 16,
     "metadata": {},
     "output_type": "execute_result"
    },
    {
     "data": {
      "image/png": "[encoded data removed]",
      "text/plain": [
       "<Figure size 640x480 with 1 Axes>"
      ]
     },
     "metadata": {},
     "output_type": "display_data"
    }
   ],
   "source": [
    "viz_df1.sort_values(by= 'AwayGoals',inplace=True)\n",
    "\n",
    "plt.scatter(y = viz_df1.index, x = viz_df1.HomeGoals, c= 'orange', edgecolors='black', label= 'home', s=100, \\\n",
    "           alpha = 0.8)\n",
    "plt.scatter(y = viz_df1.index, x = viz_df1.AwayGoals, c= 'black', edgecolors='white', label= 'away')\n",
    "#plt.barh(viz_df1.index, viz_df1.AwayGoals, color= 'black', alpha = 0.1, linewidth=0)\n",
    "plt.tight_layout()\n",
    "plt.xlabel('Goals scored')\n",
    "plt.xticks(ticks=np.arange(50,550,step=50))\n",
    "median= np.median(viz_df1.iloc[:,:], axis=0) # computes median val traversing all rows \n",
    "plt.axvline(x = median[0], label= 'median_H', c='orange')\n",
    "plt.axvline(x = median[1], label= 'median_A', c='black')\n",
    "#plt.fill_betweenx(y = viz_df1.index,x1 = viz_df1.HomeGoals, x2= viz_df1.AwayGoals, where = (median < viz_df1.AwayGoals), alpha = 0.1)\n",
    "plt.title('Total goals by clubs during 2010-11 to 2019-20 EPL')\n",
    "\n",
    "cond1 = viz_df1.index == (viz_df1.index[median[1] < viz_df1.AwayGoals][0]) #[0] picks min value from sorted array\n",
    "cond2 = viz_df1.index == (viz_df1.index[median[0] < viz_df1.HomeGoals][0]) \n",
    "\n",
    "y1 = int(np.argwhere((cond1) & (cond2)))\n",
    "plt.axhline(y = y1, linestyle='dashed', label = 'goals > median')\n",
    "\n",
    "#plt.fill_between(np.transpose(viz_df1.AwayGoals[viz_df1.AwayGoals > median].values), np.arange(y1,0,-1))\n",
    "plt.legend(loc=(0.6,0.15))\n",
    "plt.plot()"
   ]
  },
  {
   "cell_type": "code",
   "execution_count": 17,
   "id": "cf9c1122-6470-4ef8-9da0-246d7bf96c72",
   "metadata": {},
   "outputs": [
    {
     "name": "stdout",
     "output_type": "stream",
     "text": [
      "(36, 20)             HomeGoals                                                          \\\n",
      "Season        2010/11 2011/12 2012/13 2013/14 2014/15 2015/16 2016/17 2017/18   \n",
      "HomeTeam                                                                        \n",
      "Arsenal           2.0     1.0     2.0     2.0     2.0     2.0     2.0     3.0   \n",
      "Aston Villa       1.0     1.0     1.0     1.0     1.0     1.0     NaN     NaN   \n",
      "Birmingham        1.0     NaN     NaN     NaN     NaN     NaN     NaN     NaN   \n",
      "\n",
      "                            HomeGoalsHalftime                                  \\\n",
      "Season      2018/19 2019/20           2010/11 2011/12 2012/13 2013/14 2014/15   \n",
      "HomeTeam                                                                        \n",
      "Arsenal         2.0     2.0               0.0     1.0     1.0     1.0     1.0   \n",
      "Aston Villa     NaN     1.0               1.0     0.0     0.0     0.0     1.0   \n",
      "Birmingham      NaN     NaN               0.0     NaN     NaN     NaN     NaN   \n",
      "\n",
      "                                                     \n",
      "Season      2015/16 2016/17 2017/18 2018/19 2019/20  \n",
      "HomeTeam                                             \n",
      "Arsenal         1.0     1.0     1.0     1.0     1.0  \n",
      "Aston Villa     0.0     NaN     NaN     NaN     1.0  \n",
      "Birmingham      NaN     NaN     NaN     NaN     NaN  \n"
     ]
    }
   ],
   "source": [
    "# select clubs which sco\n",
    "home = df.pivot_table(values= ['HomeGoals','HomeGoalsHalftime'], columns= 'Season', index = 'HomeTeam', sort=True, aggfunc='median')\n",
    "print(home.shape, home.head(3)) # NaNs indicate these clubs did not play that season. "
   ]
  },
  {
   "cell_type": "code",
   "execution_count": 18,
   "id": "15a0d693-08c2-428f-aeae-5f78fbb22c45",
   "metadata": {},
   "outputs": [],
   "source": [
    "home.dropna(inplace =True, how='any') # default 'any' drops if a club did not play even a single season "
   ]
  },
  {
   "cell_type": "code",
   "execution_count": 19,
   "id": "afefbcc1-d851-4dc8-8009-2007c6db5c24",
   "metadata": {},
   "outputs": [
    {
     "data": {
      "text/plain": [
       "7"
      ]
     },
     "metadata": {},
     "output_type": "display_data"
    },
    {
     "data": {
      "text/plain": [
       "'teams that were not relegated in the last 10 seasons'"
      ]
     },
     "metadata": {},
     "output_type": "display_data"
    },
    {
     "data": {
      "text/plain": [
       "['Arsenal', 'Chelsea', 'Everton', 'Liverpool', 'Man City', 'Man United', 'Tottenham']\n",
       "Categories (36, object): ['Arsenal', 'Aston Villa', 'Birmingham', 'Blackburn', ..., 'West Brom', 'West Ham', 'Wigan', 'Wolves']"
      ]
     },
     "execution_count": 19,
     "metadata": {},
     "output_type": "execute_result"
    }
   ],
   "source": [
    "display(home.index.nunique(), 'teams that were not relegated in the last 10 seasons')\n",
    "home.index.values"
   ]
  },
  {
   "cell_type": "code",
   "execution_count": 20,
   "id": "7c677829-a15a-4ccc-a204-595654f2c2c7",
   "metadata": {},
   "outputs": [
    {
     "name": "stdout",
     "output_type": "stream",
     "text": [
      "MultiIndex([(        'HomeGoals', '2010/11'),\n",
      "            (        'HomeGoals', '2011/12'),\n",
      "            (        'HomeGoals', '2012/13'),\n",
      "            (        'HomeGoals', '2013/14'),\n",
      "            (        'HomeGoals', '2014/15'),\n",
      "            (        'HomeGoals', '2015/16'),\n",
      "            (        'HomeGoals', '2016/17'),\n",
      "            (        'HomeGoals', '2017/18'),\n",
      "            (        'HomeGoals', '2018/19'),\n",
      "            (        'HomeGoals', '2019/20'),\n",
      "            ('HomeGoalsHalftime', '2010/11'),\n",
      "            ('HomeGoalsHalftime', '2011/12'),\n",
      "            ('HomeGoalsHalftime', '2012/13'),\n",
      "            ('HomeGoalsHalftime', '2013/14'),\n",
      "            ('HomeGoalsHalftime', '2014/15'),\n",
      "            ('HomeGoalsHalftime', '2015/16'),\n",
      "            ('HomeGoalsHalftime', '2016/17'),\n",
      "            ('HomeGoalsHalftime', '2017/18'),\n",
      "            ('HomeGoalsHalftime', '2018/19'),\n",
      "            ('HomeGoalsHalftime', '2019/20')],\n",
      "           names=[None, 'Season'])\n",
      "<class 'pandas.core.frame.DataFrame'>\n"
     ]
    }
   ],
   "source": [
    "print(home.columns)\n",
    "print(type(home))"
   ]
  },
  {
   "cell_type": "code",
   "execution_count": 21,
   "id": "b9970530-7448-4270-a602-4b974eac211c",
   "metadata": {},
   "outputs": [
    {
     "data": {
      "text/plain": [
       "<bound method DataFrame.reset_index of            HomeGoals                                                          \\\n",
       "Season       2010/11 2011/12 2012/13 2013/14 2014/15 2015/16 2016/17 2017/18   \n",
       "HomeTeam                                                                       \n",
       "Arsenal          2.0     1.0     2.0     2.0     2.0     2.0     2.0     3.0   \n",
       "Chelsea          2.0     2.0     2.0     2.0     2.0     2.0     3.0     1.0   \n",
       "Everton          2.0     1.0     2.0     2.0     1.0     2.0     2.0     1.0   \n",
       "Liverpool        2.0     1.0     1.0     3.0     2.0     1.0     2.0     2.0   \n",
       "Man City         1.0     3.0     2.0     3.0     2.0     2.0     2.0     3.0   \n",
       "Man United       2.0     2.0     2.0     1.0     2.0     1.0     1.0     2.0   \n",
       "Tottenham        2.0     2.0     2.0     1.0     2.0     2.0     2.0     1.0   \n",
       "\n",
       "                           HomeGoalsHalftime                                  \\\n",
       "Season     2018/19 2019/20           2010/11 2011/12 2012/13 2013/14 2014/15   \n",
       "HomeTeam                                                                       \n",
       "Arsenal        2.0     2.0               0.0     1.0     1.0     1.0     1.0   \n",
       "Chelsea        2.0     2.0               1.0     1.0     1.0     1.0     1.0   \n",
       "Everton        2.0     1.0               1.0     0.0     1.0     1.0     1.0   \n",
       "Liverpool      3.0     2.0               1.0     0.0     0.0     2.0     1.0   \n",
       "Man City       3.0     2.0               1.0     1.0     1.0     2.0     1.0   \n",
       "Man United     2.0     2.0               1.0     1.0     1.0     0.0     1.0   \n",
       "Tottenham      1.0     2.0               0.0     1.0     0.0     1.0     0.0   \n",
       "\n",
       "                                                    \n",
       "Season     2015/16 2016/17 2017/18 2018/19 2019/20  \n",
       "HomeTeam                                            \n",
       "Arsenal        1.0     1.0     1.0     1.0     1.0  \n",
       "Chelsea        1.0     1.0     1.0     1.0     1.0  \n",
       "Everton        1.0     1.0     0.0     1.0     1.0  \n",
       "Liverpool      1.0     1.0     1.0     1.0     1.0  \n",
       "Man City       1.0     1.0     1.0     1.0     2.0  \n",
       "Man United     0.0     1.0     1.0     1.0     1.0  \n",
       "Tottenham      1.0     1.0     1.0     0.0     1.0  >"
      ]
     },
     "execution_count": 21,
     "metadata": {},
     "output_type": "execute_result"
    }
   ],
   "source": [
    "home['HomeGoals']['2019/20']\n",
    "home.reset_index"
   ]
  },
  {
   "cell_type": "markdown",
   "id": "3aecf9ff-e20c-447b-a005-50219bc514b8",
   "metadata": {},
   "source": [
    "- multilabel classification? regression. if classification make goals as categories.\n",
    "- make boxplot for 2nd viz, x = teams , y = Goals.\n"
   ]
  },
  {
   "cell_type": "code",
   "execution_count": 22,
   "id": "e07de72c-df25-40bc-8adb-a2787af3889b",
   "metadata": {},
   "outputs": [
    {
     "data": {
      "text/plain": [
       "Season                     category\n",
       "Date                 datetime64[ns]\n",
       "Referee                    category\n",
       "HomeTeam                   category\n",
       "AwayTeam                   category\n",
       "FullTime                   category\n",
       "Halftime                   category\n",
       "HomeGoals                     int64\n",
       "HomeGoalsHalftime             int64\n",
       "HomeShots                     int64\n",
       "HomeShotsOnTarget             int64\n",
       "HomeCorners                   int64\n",
       "HomeFouls                     int64\n",
       "HomeYellowCards               int64\n",
       "HomeRedCards                  int64\n",
       "AwayGoals                     int64\n",
       "AwayGoalsHalftime             int64\n",
       "AwayShots                     int64\n",
       "AwayShotsOnTarget             int64\n",
       "AwayCorners                   int64\n",
       "AwayFouls                     int64\n",
       "AwayYellowCards               int64\n",
       "AwayRedCards                  int64\n",
       "dtype: object"
      ]
     },
     "metadata": {},
     "output_type": "display_data"
    },
    {
     "data": {
      "text/plain": [
       "(3800, 23)"
      ]
     },
     "metadata": {},
     "output_type": "display_data"
    },
    {
     "data": {
      "text/html": [
       "<div>\n",
       "<style scoped>\n",
       "    .dataframe tbody tr th:only-of-type {\n",
       "        vertical-align: middle;\n",
       "    }\n",
       "\n",
       "    .dataframe tbody tr th {\n",
       "        vertical-align: top;\n",
       "    }\n",
       "\n",
       "    .dataframe thead th {\n",
       "        text-align: right;\n",
       "    }\n",
       "</style>\n",
       "<table border=\"1\" class=\"dataframe\">\n",
       "  <thead>\n",
       "    <tr style=\"text-align: right;\">\n",
       "      <th></th>\n",
       "      <th>Season</th>\n",
       "      <th>Date</th>\n",
       "      <th>Referee</th>\n",
       "      <th>HomeTeam</th>\n",
       "      <th>AwayTeam</th>\n",
       "      <th>FullTime</th>\n",
       "      <th>Halftime</th>\n",
       "      <th>HomeGoals</th>\n",
       "      <th>HomeGoalsHalftime</th>\n",
       "      <th>HomeShots</th>\n",
       "      <th>...</th>\n",
       "      <th>HomeYellowCards</th>\n",
       "      <th>HomeRedCards</th>\n",
       "      <th>AwayGoals</th>\n",
       "      <th>AwayGoalsHalftime</th>\n",
       "      <th>AwayShots</th>\n",
       "      <th>AwayShotsOnTarget</th>\n",
       "      <th>AwayCorners</th>\n",
       "      <th>AwayFouls</th>\n",
       "      <th>AwayYellowCards</th>\n",
       "      <th>AwayRedCards</th>\n",
       "    </tr>\n",
       "  </thead>\n",
       "  <tbody>\n",
       "    <tr>\n",
       "      <th>0</th>\n",
       "      <td>2010/11</td>\n",
       "      <td>2010-08-14</td>\n",
       "      <td>M Dean</td>\n",
       "      <td>Aston Villa</td>\n",
       "      <td>West Ham</td>\n",
       "      <td>HomeWin</td>\n",
       "      <td>HomeWin</td>\n",
       "      <td>3</td>\n",
       "      <td>2</td>\n",
       "      <td>23</td>\n",
       "      <td>...</td>\n",
       "      <td>1</td>\n",
       "      <td>0</td>\n",
       "      <td>0</td>\n",
       "      <td>0</td>\n",
       "      <td>12</td>\n",
       "      <td>2</td>\n",
       "      <td>7</td>\n",
       "      <td>15</td>\n",
       "      <td>2</td>\n",
       "      <td>0</td>\n",
       "    </tr>\n",
       "  </tbody>\n",
       "</table>\n",
       "<p>1 rows × 23 columns</p>\n",
       "</div>"
      ],
      "text/plain": [
       "    Season       Date Referee     HomeTeam  AwayTeam FullTime Halftime  \\\n",
       "0  2010/11 2010-08-14  M Dean  Aston Villa  West Ham  HomeWin  HomeWin   \n",
       "\n",
       "   HomeGoals  HomeGoalsHalftime  HomeShots  ...  HomeYellowCards  \\\n",
       "0          3                  2         23  ...                1   \n",
       "\n",
       "   HomeRedCards  AwayGoals  AwayGoalsHalftime  AwayShots  AwayShotsOnTarget  \\\n",
       "0             0          0                  0         12                  2   \n",
       "\n",
       "   AwayCorners  AwayFouls  AwayYellowCards  AwayRedCards  \n",
       "0            7         15                2             0  \n",
       "\n",
       "[1 rows x 23 columns]"
      ]
     },
     "metadata": {},
     "output_type": "display_data"
    }
   ],
   "source": [
    "display(df.dtypes)\n",
    "display(df.shape)\n",
    "display(df.head(1))"
   ]
  },
  {
   "cell_type": "code",
   "execution_count": 23,
   "id": "47e8c19b-6f84-4584-af46-a3c8c29669f6",
   "metadata": {},
   "outputs": [],
   "source": [
    "#X = df.drop(columns= ['Season', 'Date', 'Referee','FullTime','Halftime','HomeGoals','HomeGoalsHalftime','AwayGoals', 'AwayGoalsHalftime'])\n",
    "X = df.drop(columns= ['Season', 'Date', 'Referee','HomeGoals','HomeGoalsHalftime','AwayGoals', 'AwayGoalsHalftime'])"
   ]
  },
  {
   "cell_type": "code",
   "execution_count": 24,
   "id": "bdc8f2a1-38a9-4245-bf42-1192046ea977",
   "metadata": {},
   "outputs": [
    {
     "data": {
      "text/plain": [
       "Index(['HomeTeam', 'AwayTeam', 'FullTime', 'Halftime', 'HomeShots',\n",
       "       'HomeShotsOnTarget', 'HomeCorners', 'HomeFouls', 'HomeYellowCards',\n",
       "       'HomeRedCards', 'AwayShots', 'AwayShotsOnTarget', 'AwayCorners',\n",
       "       'AwayFouls', 'AwayYellowCards', 'AwayRedCards'],\n",
       "      dtype='object')"
      ]
     },
     "execution_count": 24,
     "metadata": {},
     "output_type": "execute_result"
    }
   ],
   "source": [
    "X.columns"
   ]
  },
  {
   "cell_type": "code",
   "execution_count": 25,
   "id": "da32cab0-0110-41bc-9c51-8ab44da5b50e",
   "metadata": {},
   "outputs": [],
   "source": [
    "y = df.loc[:][['HomeGoals','AwayGoals']]"
   ]
  },
  {
   "cell_type": "code",
   "execution_count": 26,
   "id": "3fedf447-3237-4767-83d0-9f5255741f27",
   "metadata": {},
   "outputs": [
    {
     "data": {
      "text/html": [
       "<div>\n",
       "<style scoped>\n",
       "    .dataframe tbody tr th:only-of-type {\n",
       "        vertical-align: middle;\n",
       "    }\n",
       "\n",
       "    .dataframe tbody tr th {\n",
       "        vertical-align: top;\n",
       "    }\n",
       "\n",
       "    .dataframe thead th {\n",
       "        text-align: right;\n",
       "    }\n",
       "</style>\n",
       "<table border=\"1\" class=\"dataframe\">\n",
       "  <thead>\n",
       "    <tr style=\"text-align: right;\">\n",
       "      <th></th>\n",
       "      <th>HomeTeam</th>\n",
       "      <th>AwayTeam</th>\n",
       "      <th>FullTime</th>\n",
       "      <th>Halftime</th>\n",
       "      <th>HomeShots</th>\n",
       "      <th>HomeShotsOnTarget</th>\n",
       "      <th>HomeCorners</th>\n",
       "      <th>HomeFouls</th>\n",
       "      <th>HomeYellowCards</th>\n",
       "      <th>HomeRedCards</th>\n",
       "      <th>AwayShots</th>\n",
       "      <th>AwayShotsOnTarget</th>\n",
       "      <th>AwayCorners</th>\n",
       "      <th>AwayFouls</th>\n",
       "      <th>AwayYellowCards</th>\n",
       "      <th>AwayRedCards</th>\n",
       "    </tr>\n",
       "  </thead>\n",
       "  <tbody>\n",
       "    <tr>\n",
       "      <th>0</th>\n",
       "      <td>Aston Villa</td>\n",
       "      <td>West Ham</td>\n",
       "      <td>HomeWin</td>\n",
       "      <td>HomeWin</td>\n",
       "      <td>23</td>\n",
       "      <td>11</td>\n",
       "      <td>16</td>\n",
       "      <td>15</td>\n",
       "      <td>1</td>\n",
       "      <td>0</td>\n",
       "      <td>12</td>\n",
       "      <td>2</td>\n",
       "      <td>7</td>\n",
       "      <td>15</td>\n",
       "      <td>2</td>\n",
       "      <td>0</td>\n",
       "    </tr>\n",
       "    <tr>\n",
       "      <th>1</th>\n",
       "      <td>Blackburn</td>\n",
       "      <td>Everton</td>\n",
       "      <td>HomeWin</td>\n",
       "      <td>HomeWin</td>\n",
       "      <td>7</td>\n",
       "      <td>2</td>\n",
       "      <td>1</td>\n",
       "      <td>19</td>\n",
       "      <td>2</td>\n",
       "      <td>0</td>\n",
       "      <td>17</td>\n",
       "      <td>12</td>\n",
       "      <td>3</td>\n",
       "      <td>14</td>\n",
       "      <td>1</td>\n",
       "      <td>0</td>\n",
       "    </tr>\n",
       "    <tr>\n",
       "      <th>2</th>\n",
       "      <td>Bolton</td>\n",
       "      <td>Fulham</td>\n",
       "      <td>Draw</td>\n",
       "      <td>Draw</td>\n",
       "      <td>13</td>\n",
       "      <td>9</td>\n",
       "      <td>4</td>\n",
       "      <td>12</td>\n",
       "      <td>1</td>\n",
       "      <td>0</td>\n",
       "      <td>12</td>\n",
       "      <td>7</td>\n",
       "      <td>8</td>\n",
       "      <td>13</td>\n",
       "      <td>3</td>\n",
       "      <td>0</td>\n",
       "    </tr>\n",
       "    <tr>\n",
       "      <th>3</th>\n",
       "      <td>Chelsea</td>\n",
       "      <td>West Brom</td>\n",
       "      <td>HomeWin</td>\n",
       "      <td>HomeWin</td>\n",
       "      <td>18</td>\n",
       "      <td>13</td>\n",
       "      <td>3</td>\n",
       "      <td>10</td>\n",
       "      <td>1</td>\n",
       "      <td>0</td>\n",
       "      <td>10</td>\n",
       "      <td>4</td>\n",
       "      <td>1</td>\n",
       "      <td>10</td>\n",
       "      <td>0</td>\n",
       "      <td>0</td>\n",
       "    </tr>\n",
       "    <tr>\n",
       "      <th>4</th>\n",
       "      <td>Sunderland</td>\n",
       "      <td>Birmingham</td>\n",
       "      <td>Draw</td>\n",
       "      <td>HomeWin</td>\n",
       "      <td>6</td>\n",
       "      <td>2</td>\n",
       "      <td>3</td>\n",
       "      <td>13</td>\n",
       "      <td>3</td>\n",
       "      <td>1</td>\n",
       "      <td>13</td>\n",
       "      <td>7</td>\n",
       "      <td>6</td>\n",
       "      <td>10</td>\n",
       "      <td>3</td>\n",
       "      <td>0</td>\n",
       "    </tr>\n",
       "  </tbody>\n",
       "</table>\n",
       "</div>"
      ],
      "text/plain": [
       "      HomeTeam    AwayTeam FullTime Halftime  HomeShots  HomeShotsOnTarget  \\\n",
       "0  Aston Villa    West Ham  HomeWin  HomeWin         23                 11   \n",
       "1    Blackburn     Everton  HomeWin  HomeWin          7                  2   \n",
       "2       Bolton      Fulham     Draw     Draw         13                  9   \n",
       "3      Chelsea   West Brom  HomeWin  HomeWin         18                 13   \n",
       "4   Sunderland  Birmingham     Draw  HomeWin          6                  2   \n",
       "\n",
       "   HomeCorners  HomeFouls  HomeYellowCards  HomeRedCards  AwayShots  \\\n",
       "0           16         15                1             0         12   \n",
       "1            1         19                2             0         17   \n",
       "2            4         12                1             0         12   \n",
       "3            3         10                1             0         10   \n",
       "4            3         13                3             1         13   \n",
       "\n",
       "   AwayShotsOnTarget  AwayCorners  AwayFouls  AwayYellowCards  AwayRedCards  \n",
       "0                  2            7         15                2             0  \n",
       "1                 12            3         14                1             0  \n",
       "2                  7            8         13                3             0  \n",
       "3                  4            1         10                0             0  \n",
       "4                  7            6         10                3             0  "
      ]
     },
     "metadata": {},
     "output_type": "display_data"
    },
    {
     "data": {
      "text/html": [
       "<div>\n",
       "<style scoped>\n",
       "    .dataframe tbody tr th:only-of-type {\n",
       "        vertical-align: middle;\n",
       "    }\n",
       "\n",
       "    .dataframe tbody tr th {\n",
       "        vertical-align: top;\n",
       "    }\n",
       "\n",
       "    .dataframe thead th {\n",
       "        text-align: right;\n",
       "    }\n",
       "</style>\n",
       "<table border=\"1\" class=\"dataframe\">\n",
       "  <thead>\n",
       "    <tr style=\"text-align: right;\">\n",
       "      <th></th>\n",
       "      <th>HomeGoals</th>\n",
       "      <th>AwayGoals</th>\n",
       "    </tr>\n",
       "  </thead>\n",
       "  <tbody>\n",
       "    <tr>\n",
       "      <th>0</th>\n",
       "      <td>3</td>\n",
       "      <td>0</td>\n",
       "    </tr>\n",
       "    <tr>\n",
       "      <th>1</th>\n",
       "      <td>1</td>\n",
       "      <td>0</td>\n",
       "    </tr>\n",
       "    <tr>\n",
       "      <th>2</th>\n",
       "      <td>0</td>\n",
       "      <td>0</td>\n",
       "    </tr>\n",
       "    <tr>\n",
       "      <th>3</th>\n",
       "      <td>6</td>\n",
       "      <td>0</td>\n",
       "    </tr>\n",
       "    <tr>\n",
       "      <th>4</th>\n",
       "      <td>2</td>\n",
       "      <td>2</td>\n",
       "    </tr>\n",
       "  </tbody>\n",
       "</table>\n",
       "</div>"
      ],
      "text/plain": [
       "   HomeGoals  AwayGoals\n",
       "0          3          0\n",
       "1          1          0\n",
       "2          0          0\n",
       "3          6          0\n",
       "4          2          2"
      ]
     },
     "metadata": {},
     "output_type": "display_data"
    }
   ],
   "source": [
    "display(X.head(),y.head())"
   ]
  },
  {
   "cell_type": "code",
   "execution_count": 27,
   "id": "ec4c2985-984c-4332-9266-2f2f31f29d4d",
   "metadata": {},
   "outputs": [
    {
     "data": {
      "text/plain": [
       "HomeTeam             category\n",
       "AwayTeam             category\n",
       "FullTime             category\n",
       "Halftime             category\n",
       "HomeShots               int64\n",
       "HomeShotsOnTarget       int64\n",
       "HomeCorners             int64\n",
       "HomeFouls               int64\n",
       "HomeYellowCards         int64\n",
       "HomeRedCards            int64\n",
       "AwayShots               int64\n",
       "AwayShotsOnTarget       int64\n",
       "AwayCorners             int64\n",
       "AwayFouls               int64\n",
       "AwayYellowCards         int64\n",
       "AwayRedCards            int64\n",
       "dtype: object"
      ]
     },
     "execution_count": 27,
     "metadata": {},
     "output_type": "execute_result"
    }
   ],
   "source": [
    "X.dtypes"
   ]
  },
  {
   "cell_type": "code",
   "execution_count": 28,
   "id": "5d02e81c-642a-4986-adef-dbc29fbfaa22",
   "metadata": {},
   "outputs": [
    {
     "data": {
      "text/html": [
       "<div>\n",
       "<style scoped>\n",
       "    .dataframe tbody tr th:only-of-type {\n",
       "        vertical-align: middle;\n",
       "    }\n",
       "\n",
       "    .dataframe tbody tr th {\n",
       "        vertical-align: top;\n",
       "    }\n",
       "\n",
       "    .dataframe thead th {\n",
       "        text-align: right;\n",
       "    }\n",
       "</style>\n",
       "<table border=\"1\" class=\"dataframe\">\n",
       "  <thead>\n",
       "    <tr style=\"text-align: right;\">\n",
       "      <th></th>\n",
       "      <th>HomeTeam</th>\n",
       "      <th>AwayTeam</th>\n",
       "      <th>FullTime</th>\n",
       "      <th>Halftime</th>\n",
       "      <th>HomeShots</th>\n",
       "      <th>HomeShotsOnTarget</th>\n",
       "      <th>HomeCorners</th>\n",
       "      <th>HomeFouls</th>\n",
       "      <th>HomeYellowCards</th>\n",
       "      <th>HomeRedCards</th>\n",
       "      <th>...</th>\n",
       "      <th>A_West Brom</th>\n",
       "      <th>A_West Ham</th>\n",
       "      <th>A_Wigan</th>\n",
       "      <th>A_Wolves</th>\n",
       "      <th>FullTime_AwayWin</th>\n",
       "      <th>FullTime_Draw</th>\n",
       "      <th>FullTime_HomeWin</th>\n",
       "      <th>Halftime_AwayWin</th>\n",
       "      <th>Halftime_Draw</th>\n",
       "      <th>Halftime_HomeWin</th>\n",
       "    </tr>\n",
       "  </thead>\n",
       "  <tbody>\n",
       "    <tr>\n",
       "      <th>0</th>\n",
       "      <td>Aston Villa</td>\n",
       "      <td>West Ham</td>\n",
       "      <td>HomeWin</td>\n",
       "      <td>HomeWin</td>\n",
       "      <td>23</td>\n",
       "      <td>11</td>\n",
       "      <td>16</td>\n",
       "      <td>15</td>\n",
       "      <td>1</td>\n",
       "      <td>0</td>\n",
       "      <td>...</td>\n",
       "      <td>0</td>\n",
       "      <td>1</td>\n",
       "      <td>0</td>\n",
       "      <td>0</td>\n",
       "      <td>0</td>\n",
       "      <td>0</td>\n",
       "      <td>1</td>\n",
       "      <td>0</td>\n",
       "      <td>0</td>\n",
       "      <td>1</td>\n",
       "    </tr>\n",
       "    <tr>\n",
       "      <th>1</th>\n",
       "      <td>Blackburn</td>\n",
       "      <td>Everton</td>\n",
       "      <td>HomeWin</td>\n",
       "      <td>HomeWin</td>\n",
       "      <td>7</td>\n",
       "      <td>2</td>\n",
       "      <td>1</td>\n",
       "      <td>19</td>\n",
       "      <td>2</td>\n",
       "      <td>0</td>\n",
       "      <td>...</td>\n",
       "      <td>0</td>\n",
       "      <td>0</td>\n",
       "      <td>0</td>\n",
       "      <td>0</td>\n",
       "      <td>0</td>\n",
       "      <td>0</td>\n",
       "      <td>1</td>\n",
       "      <td>0</td>\n",
       "      <td>0</td>\n",
       "      <td>1</td>\n",
       "    </tr>\n",
       "    <tr>\n",
       "      <th>2</th>\n",
       "      <td>Bolton</td>\n",
       "      <td>Fulham</td>\n",
       "      <td>Draw</td>\n",
       "      <td>Draw</td>\n",
       "      <td>13</td>\n",
       "      <td>9</td>\n",
       "      <td>4</td>\n",
       "      <td>12</td>\n",
       "      <td>1</td>\n",
       "      <td>0</td>\n",
       "      <td>...</td>\n",
       "      <td>0</td>\n",
       "      <td>0</td>\n",
       "      <td>0</td>\n",
       "      <td>0</td>\n",
       "      <td>0</td>\n",
       "      <td>1</td>\n",
       "      <td>0</td>\n",
       "      <td>0</td>\n",
       "      <td>1</td>\n",
       "      <td>0</td>\n",
       "    </tr>\n",
       "    <tr>\n",
       "      <th>3</th>\n",
       "      <td>Chelsea</td>\n",
       "      <td>West Brom</td>\n",
       "      <td>HomeWin</td>\n",
       "      <td>HomeWin</td>\n",
       "      <td>18</td>\n",
       "      <td>13</td>\n",
       "      <td>3</td>\n",
       "      <td>10</td>\n",
       "      <td>1</td>\n",
       "      <td>0</td>\n",
       "      <td>...</td>\n",
       "      <td>1</td>\n",
       "      <td>0</td>\n",
       "      <td>0</td>\n",
       "      <td>0</td>\n",
       "      <td>0</td>\n",
       "      <td>0</td>\n",
       "      <td>1</td>\n",
       "      <td>0</td>\n",
       "      <td>0</td>\n",
       "      <td>1</td>\n",
       "    </tr>\n",
       "    <tr>\n",
       "      <th>4</th>\n",
       "      <td>Sunderland</td>\n",
       "      <td>Birmingham</td>\n",
       "      <td>Draw</td>\n",
       "      <td>HomeWin</td>\n",
       "      <td>6</td>\n",
       "      <td>2</td>\n",
       "      <td>3</td>\n",
       "      <td>13</td>\n",
       "      <td>3</td>\n",
       "      <td>1</td>\n",
       "      <td>...</td>\n",
       "      <td>0</td>\n",
       "      <td>0</td>\n",
       "      <td>0</td>\n",
       "      <td>0</td>\n",
       "      <td>0</td>\n",
       "      <td>1</td>\n",
       "      <td>0</td>\n",
       "      <td>0</td>\n",
       "      <td>0</td>\n",
       "      <td>1</td>\n",
       "    </tr>\n",
       "  </tbody>\n",
       "</table>\n",
       "<p>5 rows × 94 columns</p>\n",
       "</div>"
      ],
      "text/plain": [
       "      HomeTeam    AwayTeam FullTime Halftime  HomeShots  HomeShotsOnTarget  \\\n",
       "0  Aston Villa    West Ham  HomeWin  HomeWin         23                 11   \n",
       "1    Blackburn     Everton  HomeWin  HomeWin          7                  2   \n",
       "2       Bolton      Fulham     Draw     Draw         13                  9   \n",
       "3      Chelsea   West Brom  HomeWin  HomeWin         18                 13   \n",
       "4   Sunderland  Birmingham     Draw  HomeWin          6                  2   \n",
       "\n",
       "   HomeCorners  HomeFouls  HomeYellowCards  HomeRedCards  ...  A_West Brom  \\\n",
       "0           16         15                1             0  ...            0   \n",
       "1            1         19                2             0  ...            0   \n",
       "2            4         12                1             0  ...            0   \n",
       "3            3         10                1             0  ...            1   \n",
       "4            3         13                3             1  ...            0   \n",
       "\n",
       "   A_West Ham  A_Wigan  A_Wolves  FullTime_AwayWin  FullTime_Draw  \\\n",
       "0           1        0         0                 0              0   \n",
       "1           0        0         0                 0              0   \n",
       "2           0        0         0                 0              1   \n",
       "3           0        0         0                 0              0   \n",
       "4           0        0         0                 0              1   \n",
       "\n",
       "   FullTime_HomeWin  Halftime_AwayWin  Halftime_Draw  Halftime_HomeWin  \n",
       "0                 1                 0              0                 1  \n",
       "1                 1                 0              0                 1  \n",
       "2                 0                 0              1                 0  \n",
       "3                 1                 0              0                 1  \n",
       "4                 0                 0              0                 1  \n",
       "\n",
       "[5 rows x 94 columns]"
      ]
     },
     "execution_count": 28,
     "metadata": {},
     "output_type": "execute_result"
    }
   ],
   "source": [
    "a = pd.get_dummies(X.HomeTeam, prefix='H')\n",
    "b = pd.get_dummies(X.AwayTeam, prefix='A')\n",
    "c = pd.get_dummies(X[['FullTime','Halftime']])\n",
    "\n",
    "\n",
    "X = X.merge(a, left_index=True, right_index=True)\n",
    "X = X.merge(b, left_index=True, right_index=True)\n",
    "X = X.merge(c, left_index=True, right_index=True)\n",
    "X.columns = X.columns.str.replace(\"_x\",\"\")\n",
    "X.columns = X.columns.str.replace(\"_y\",\"\")\n",
    "X.head()"
   ]
  },
  {
   "cell_type": "code",
   "execution_count": 29,
   "id": "5341878f-3d43-4ec0-83e4-a70f4683b039",
   "metadata": {},
   "outputs": [
    {
     "data": {
      "text/plain": [
       "(3800, 94)"
      ]
     },
     "execution_count": 29,
     "metadata": {},
     "output_type": "execute_result"
    }
   ],
   "source": [
    "X.shape"
   ]
  },
  {
   "cell_type": "code",
   "execution_count": 30,
   "id": "6eb0630f-a2dc-418e-8629-534ed5d0595f",
   "metadata": {},
   "outputs": [],
   "source": [
    "X.drop(X.columns[:4],axis=1, inplace=True)"
   ]
  },
  {
   "cell_type": "code",
   "execution_count": 31,
   "id": "91ed33a4-862e-4637-aa86-e7d5527480ae",
   "metadata": {},
   "outputs": [
    {
     "data": {
      "text/html": [
       "<div>\n",
       "<style scoped>\n",
       "    .dataframe tbody tr th:only-of-type {\n",
       "        vertical-align: middle;\n",
       "    }\n",
       "\n",
       "    .dataframe tbody tr th {\n",
       "        vertical-align: top;\n",
       "    }\n",
       "\n",
       "    .dataframe thead th {\n",
       "        text-align: right;\n",
       "    }\n",
       "</style>\n",
       "<table border=\"1\" class=\"dataframe\">\n",
       "  <thead>\n",
       "    <tr style=\"text-align: right;\">\n",
       "      <th></th>\n",
       "      <th>HomeShots</th>\n",
       "      <th>HomeShotsOnTarget</th>\n",
       "      <th>HomeCorners</th>\n",
       "      <th>HomeFouls</th>\n",
       "      <th>HomeYellowCards</th>\n",
       "      <th>HomeRedCards</th>\n",
       "      <th>AwayShots</th>\n",
       "      <th>AwayShotsOnTarget</th>\n",
       "      <th>AwayCorners</th>\n",
       "      <th>AwayFouls</th>\n",
       "      <th>...</th>\n",
       "      <th>A_West Brom</th>\n",
       "      <th>A_West Ham</th>\n",
       "      <th>A_Wigan</th>\n",
       "      <th>A_Wolves</th>\n",
       "      <th>FullTime_AwayWin</th>\n",
       "      <th>FullTime_Draw</th>\n",
       "      <th>FullTime_HomeWin</th>\n",
       "      <th>Halftime_AwayWin</th>\n",
       "      <th>Halftime_Draw</th>\n",
       "      <th>Halftime_HomeWin</th>\n",
       "    </tr>\n",
       "  </thead>\n",
       "  <tbody>\n",
       "    <tr>\n",
       "      <th>0</th>\n",
       "      <td>23</td>\n",
       "      <td>11</td>\n",
       "      <td>16</td>\n",
       "      <td>15</td>\n",
       "      <td>1</td>\n",
       "      <td>0</td>\n",
       "      <td>12</td>\n",
       "      <td>2</td>\n",
       "      <td>7</td>\n",
       "      <td>15</td>\n",
       "      <td>...</td>\n",
       "      <td>0</td>\n",
       "      <td>1</td>\n",
       "      <td>0</td>\n",
       "      <td>0</td>\n",
       "      <td>0</td>\n",
       "      <td>0</td>\n",
       "      <td>1</td>\n",
       "      <td>0</td>\n",
       "      <td>0</td>\n",
       "      <td>1</td>\n",
       "    </tr>\n",
       "    <tr>\n",
       "      <th>1</th>\n",
       "      <td>7</td>\n",
       "      <td>2</td>\n",
       "      <td>1</td>\n",
       "      <td>19</td>\n",
       "      <td>2</td>\n",
       "      <td>0</td>\n",
       "      <td>17</td>\n",
       "      <td>12</td>\n",
       "      <td>3</td>\n",
       "      <td>14</td>\n",
       "      <td>...</td>\n",
       "      <td>0</td>\n",
       "      <td>0</td>\n",
       "      <td>0</td>\n",
       "      <td>0</td>\n",
       "      <td>0</td>\n",
       "      <td>0</td>\n",
       "      <td>1</td>\n",
       "      <td>0</td>\n",
       "      <td>0</td>\n",
       "      <td>1</td>\n",
       "    </tr>\n",
       "    <tr>\n",
       "      <th>2</th>\n",
       "      <td>13</td>\n",
       "      <td>9</td>\n",
       "      <td>4</td>\n",
       "      <td>12</td>\n",
       "      <td>1</td>\n",
       "      <td>0</td>\n",
       "      <td>12</td>\n",
       "      <td>7</td>\n",
       "      <td>8</td>\n",
       "      <td>13</td>\n",
       "      <td>...</td>\n",
       "      <td>0</td>\n",
       "      <td>0</td>\n",
       "      <td>0</td>\n",
       "      <td>0</td>\n",
       "      <td>0</td>\n",
       "      <td>1</td>\n",
       "      <td>0</td>\n",
       "      <td>0</td>\n",
       "      <td>1</td>\n",
       "      <td>0</td>\n",
       "    </tr>\n",
       "    <tr>\n",
       "      <th>3</th>\n",
       "      <td>18</td>\n",
       "      <td>13</td>\n",
       "      <td>3</td>\n",
       "      <td>10</td>\n",
       "      <td>1</td>\n",
       "      <td>0</td>\n",
       "      <td>10</td>\n",
       "      <td>4</td>\n",
       "      <td>1</td>\n",
       "      <td>10</td>\n",
       "      <td>...</td>\n",
       "      <td>1</td>\n",
       "      <td>0</td>\n",
       "      <td>0</td>\n",
       "      <td>0</td>\n",
       "      <td>0</td>\n",
       "      <td>0</td>\n",
       "      <td>1</td>\n",
       "      <td>0</td>\n",
       "      <td>0</td>\n",
       "      <td>1</td>\n",
       "    </tr>\n",
       "    <tr>\n",
       "      <th>4</th>\n",
       "      <td>6</td>\n",
       "      <td>2</td>\n",
       "      <td>3</td>\n",
       "      <td>13</td>\n",
       "      <td>3</td>\n",
       "      <td>1</td>\n",
       "      <td>13</td>\n",
       "      <td>7</td>\n",
       "      <td>6</td>\n",
       "      <td>10</td>\n",
       "      <td>...</td>\n",
       "      <td>0</td>\n",
       "      <td>0</td>\n",
       "      <td>0</td>\n",
       "      <td>0</td>\n",
       "      <td>0</td>\n",
       "      <td>1</td>\n",
       "      <td>0</td>\n",
       "      <td>0</td>\n",
       "      <td>0</td>\n",
       "      <td>1</td>\n",
       "    </tr>\n",
       "  </tbody>\n",
       "</table>\n",
       "<p>5 rows × 90 columns</p>\n",
       "</div>"
      ],
      "text/plain": [
       "   HomeShots  HomeShotsOnTarget  HomeCorners  HomeFouls  HomeYellowCards  \\\n",
       "0         23                 11           16         15                1   \n",
       "1          7                  2            1         19                2   \n",
       "2         13                  9            4         12                1   \n",
       "3         18                 13            3         10                1   \n",
       "4          6                  2            3         13                3   \n",
       "\n",
       "   HomeRedCards  AwayShots  AwayShotsOnTarget  AwayCorners  AwayFouls  ...  \\\n",
       "0             0         12                  2            7         15  ...   \n",
       "1             0         17                 12            3         14  ...   \n",
       "2             0         12                  7            8         13  ...   \n",
       "3             0         10                  4            1         10  ...   \n",
       "4             1         13                  7            6         10  ...   \n",
       "\n",
       "   A_West Brom  A_West Ham  A_Wigan  A_Wolves  FullTime_AwayWin  \\\n",
       "0            0           1        0         0                 0   \n",
       "1            0           0        0         0                 0   \n",
       "2            0           0        0         0                 0   \n",
       "3            1           0        0         0                 0   \n",
       "4            0           0        0         0                 0   \n",
       "\n",
       "   FullTime_Draw  FullTime_HomeWin  Halftime_AwayWin  Halftime_Draw  \\\n",
       "0              0                 1                 0              0   \n",
       "1              0                 1                 0              0   \n",
       "2              1                 0                 0              1   \n",
       "3              0                 1                 0              0   \n",
       "4              1                 0                 0              0   \n",
       "\n",
       "   Halftime_HomeWin  \n",
       "0                 1  \n",
       "1                 1  \n",
       "2                 0  \n",
       "3                 1  \n",
       "4                 1  \n",
       "\n",
       "[5 rows x 90 columns]"
      ]
     },
     "execution_count": 31,
     "metadata": {},
     "output_type": "execute_result"
    }
   ],
   "source": [
    "X.head() # x is ready to be fit"
   ]
  },
  {
   "cell_type": "code",
   "execution_count": 32,
   "id": "775c8f8c-b3dd-4c68-8346-961a2251f8ae",
   "metadata": {},
   "outputs": [],
   "source": [
    "xtrain,xtest,ytrain,ytest = train_test_split(X,y)"
   ]
  },
  {
   "cell_type": "code",
   "execution_count": 33,
   "id": "c7764588-9d00-414b-b925-9b83bf55509f",
   "metadata": {},
   "outputs": [
    {
     "data": {
      "text/plain": [
       "{'xtrain': (2850, 90), 'xtest': (950, 90)}"
      ]
     },
     "metadata": {},
     "output_type": "display_data"
    },
    {
     "data": {
      "text/plain": [
       "{'ytrain': (2850, 2), 'ytest': (950, 2)}"
      ]
     },
     "metadata": {},
     "output_type": "display_data"
    }
   ],
   "source": [
    "display({'xtrain': xtrain.shape,'xtest': xtest.shape},{'ytrain':ytrain.shape,'ytest':ytest.shape})"
   ]
  },
  {
   "cell_type": "code",
   "execution_count": 34,
   "id": "4ab7581f-3485-4953-9315-99172284960e",
   "metadata": {},
   "outputs": [],
   "source": [
    "model = LinearRegression(normalize=True)\n",
    "m = model.fit(xtrain,ytrain)\n",
    "yhat = m.predict(xtest)"
   ]
  },
  {
   "cell_type": "code",
   "execution_count": 35,
   "id": "b64d6191-d284-4dc8-936c-1966048b22e4",
   "metadata": {},
   "outputs": [],
   "source": [
    "mse = mean_squared_error(yhat, ytest)\n",
    "r2 = r2_score(yhat, ytest)"
   ]
  },
  {
   "cell_type": "code",
   "execution_count": 36,
   "id": "00dd5ef3-6fee-4be1-b5b1-4aaad3b08a4c",
   "metadata": {},
   "outputs": [
    {
     "data": {
      "text/plain": [
       "{'mse': '0.64'}"
      ]
     },
     "metadata": {},
     "output_type": "display_data"
    },
    {
     "data": {
      "text/plain": [
       "{'r2': '0.28'}"
      ]
     },
     "metadata": {},
     "output_type": "display_data"
    },
    {
     "data": {
      "text/plain": [
       "{'sd_homegoals': '1.30'}"
      ]
     },
     "metadata": {},
     "output_type": "display_data"
    },
    {
     "data": {
      "text/plain": [
       "{'sd_awaygoals': '1.17'}"
      ]
     },
     "metadata": {},
     "output_type": "display_data"
    },
    {
     "name": "stdout",
     "output_type": "stream",
     "text": [
      "\n",
      "trying out a classification here since decimal goals dont mean anything\n"
     ]
    }
   ],
   "source": [
    "display({'mse': f'{mse:3.2f}'}, {'r2': f'{r2:3.2f}'},\\\n",
    "        {'sd_homegoals': f'{np.std(df.HomeGoals,axis=0):3.2f}'},{'sd_awaygoals': f'{np.std(df.AwayGoals,axis=0):3.2f}'})\n",
    "print('\\ntrying out a classification here since decimal goals don''t mean anything')"
   ]
  },
  {
   "cell_type": "code",
   "execution_count": 37,
   "id": "85e0eaf4-2ad6-49ae-b876-4d480e394be1",
   "metadata": {},
   "outputs": [
    {
     "data": {
      "text/plain": [
       "{'y_actual':       HomeGoals  AwayGoals\n",
       " 613           1          2\n",
       " 2922          1          1\n",
       " 2398          0          1\n",
       " 183           0          2,\n",
       " 'y_pred':    HomeGoals  AwayGoals\n",
       " 0        1.1        2.2\n",
       " 1        0.7        1.5\n",
       " 2        0.4        2.1\n",
       " 3        1.9        2.2}"
      ]
     },
     "metadata": {},
     "output_type": "display_data"
    }
   ],
   "source": [
    "ybar= m.predict(xtest[1:5])\n",
    "display({'y_actual': ytest[1:5], 'y_pred': pd.DataFrame({'HomeGoals':ybar[:,0],'AwayGoals':ybar[:,1]})})"
   ]
  },
  {
   "cell_type": "markdown",
   "id": "cb11b3f4-4e2e-4f0f-a910-555e781c3828",
   "metadata": {},
   "source": [
    "#### Setting a multilabel classification. \n",
    "-    Changing HomeGoals, AwayGoals to categorical. Adding Fulltime, Halftime categorical data also to the y output. \n",
    "-    n_target_variable > 1"
   ]
  },
  {
   "cell_type": "code",
   "execution_count": 38,
   "id": "cf6532f6-1dd5-42a4-88f6-30f5cae007e9",
   "metadata": {
    "tags": []
   },
   "outputs": [
    {
     "data": {
      "text/plain": [
       "['3', '1', '0', '6', '2', '4', '5', '7', '8']\n",
       "Categories (9, object): ['0', '1', '2', '3', ..., '5', '6', '7', '8']"
      ]
     },
     "execution_count": 38,
     "metadata": {},
     "output_type": "execute_result"
    }
   ],
   "source": [
    "y.dtypes\n",
    "#cat = CategoricalDtype(categories= y.HomeGoals.unique().astype('str'))\n",
    "y.HomeGoals = pd.Categorical(y.HomeGoals.astype(str))\n",
    "y.HomeGoals.unique()"
   ]
  },
  {
   "cell_type": "code",
   "execution_count": 39,
   "id": "234a8183-e6c0-47a4-8a7f-52a15dc4b9fc",
   "metadata": {},
   "outputs": [
    {
     "data": {
      "text/html": [
       "<div>\n",
       "<style scoped>\n",
       "    .dataframe tbody tr th:only-of-type {\n",
       "        vertical-align: middle;\n",
       "    }\n",
       "\n",
       "    .dataframe tbody tr th {\n",
       "        vertical-align: top;\n",
       "    }\n",
       "\n",
       "    .dataframe thead th {\n",
       "        text-align: right;\n",
       "    }\n",
       "</style>\n",
       "<table border=\"1\" class=\"dataframe\">\n",
       "  <thead>\n",
       "    <tr style=\"text-align: right;\">\n",
       "      <th></th>\n",
       "      <th>Season</th>\n",
       "      <th>Date</th>\n",
       "      <th>Referee</th>\n",
       "      <th>HomeTeam</th>\n",
       "      <th>AwayTeam</th>\n",
       "      <th>FullTime</th>\n",
       "      <th>Halftime</th>\n",
       "      <th>HomeGoals</th>\n",
       "      <th>HomeGoalsHalftime</th>\n",
       "      <th>HomeShots</th>\n",
       "      <th>...</th>\n",
       "      <th>HomeYellowCards</th>\n",
       "      <th>HomeRedCards</th>\n",
       "      <th>AwayGoals</th>\n",
       "      <th>AwayGoalsHalftime</th>\n",
       "      <th>AwayShots</th>\n",
       "      <th>AwayShotsOnTarget</th>\n",
       "      <th>AwayCorners</th>\n",
       "      <th>AwayFouls</th>\n",
       "      <th>AwayYellowCards</th>\n",
       "      <th>AwayRedCards</th>\n",
       "    </tr>\n",
       "  </thead>\n",
       "  <tbody>\n",
       "    <tr>\n",
       "      <th>405</th>\n",
       "      <td>2011/12</td>\n",
       "      <td>2011-08-28</td>\n",
       "      <td>H Webb</td>\n",
       "      <td>Man United</td>\n",
       "      <td>Arsenal</td>\n",
       "      <td>HomeWin</td>\n",
       "      <td>HomeWin</td>\n",
       "      <td>8</td>\n",
       "      <td>3</td>\n",
       "      <td>25</td>\n",
       "      <td>...</td>\n",
       "      <td>2</td>\n",
       "      <td>0</td>\n",
       "      <td>2</td>\n",
       "      <td>1</td>\n",
       "      <td>19</td>\n",
       "      <td>13</td>\n",
       "      <td>5</td>\n",
       "      <td>7</td>\n",
       "      <td>3</td>\n",
       "      <td>1</td>\n",
       "    </tr>\n",
       "    <tr>\n",
       "      <th>1596</th>\n",
       "      <td>2014/15</td>\n",
       "      <td>2014-10-18</td>\n",
       "      <td>A Marriner</td>\n",
       "      <td>Southampton</td>\n",
       "      <td>Sunderland</td>\n",
       "      <td>HomeWin</td>\n",
       "      <td>HomeWin</td>\n",
       "      <td>8</td>\n",
       "      <td>3</td>\n",
       "      <td>20</td>\n",
       "      <td>...</td>\n",
       "      <td>1</td>\n",
       "      <td>0</td>\n",
       "      <td>0</td>\n",
       "      <td>0</td>\n",
       "      <td>12</td>\n",
       "      <td>1</td>\n",
       "      <td>6</td>\n",
       "      <td>8</td>\n",
       "      <td>3</td>\n",
       "      <td>0</td>\n",
       "    </tr>\n",
       "    <tr>\n",
       "      <th>3474</th>\n",
       "      <td>2019/20</td>\n",
       "      <td>2019-09-21</td>\n",
       "      <td>M Dean</td>\n",
       "      <td>Man City</td>\n",
       "      <td>Watford</td>\n",
       "      <td>HomeWin</td>\n",
       "      <td>HomeWin</td>\n",
       "      <td>8</td>\n",
       "      <td>5</td>\n",
       "      <td>28</td>\n",
       "      <td>...</td>\n",
       "      <td>2</td>\n",
       "      <td>0</td>\n",
       "      <td>0</td>\n",
       "      <td>0</td>\n",
       "      <td>5</td>\n",
       "      <td>4</td>\n",
       "      <td>4</td>\n",
       "      <td>9</td>\n",
       "      <td>2</td>\n",
       "      <td>0</td>\n",
       "    </tr>\n",
       "    <tr>\n",
       "      <th>937</th>\n",
       "      <td>2012/13</td>\n",
       "      <td>2012-12-23</td>\n",
       "      <td>P Dowd</td>\n",
       "      <td>Chelsea</td>\n",
       "      <td>Aston Villa</td>\n",
       "      <td>HomeWin</td>\n",
       "      <td>HomeWin</td>\n",
       "      <td>8</td>\n",
       "      <td>3</td>\n",
       "      <td>24</td>\n",
       "      <td>...</td>\n",
       "      <td>0</td>\n",
       "      <td>0</td>\n",
       "      <td>0</td>\n",
       "      <td>0</td>\n",
       "      <td>7</td>\n",
       "      <td>4</td>\n",
       "      <td>4</td>\n",
       "      <td>11</td>\n",
       "      <td>0</td>\n",
       "      <td>0</td>\n",
       "    </tr>\n",
       "    <tr>\n",
       "      <th>2733</th>\n",
       "      <td>2017/18</td>\n",
       "      <td>2017-10-14</td>\n",
       "      <td>C Pawson</td>\n",
       "      <td>Man City</td>\n",
       "      <td>Stoke</td>\n",
       "      <td>HomeWin</td>\n",
       "      <td>HomeWin</td>\n",
       "      <td>7</td>\n",
       "      <td>3</td>\n",
       "      <td>20</td>\n",
       "      <td>...</td>\n",
       "      <td>0</td>\n",
       "      <td>0</td>\n",
       "      <td>2</td>\n",
       "      <td>1</td>\n",
       "      <td>5</td>\n",
       "      <td>1</td>\n",
       "      <td>0</td>\n",
       "      <td>8</td>\n",
       "      <td>1</td>\n",
       "      <td>0</td>\n",
       "    </tr>\n",
       "  </tbody>\n",
       "</table>\n",
       "<p>5 rows × 23 columns</p>\n",
       "</div>"
      ],
      "text/plain": [
       "       Season       Date     Referee     HomeTeam     AwayTeam FullTime  \\\n",
       "405   2011/12 2011-08-28      H Webb   Man United      Arsenal  HomeWin   \n",
       "1596  2014/15 2014-10-18  A Marriner  Southampton   Sunderland  HomeWin   \n",
       "3474  2019/20 2019-09-21      M Dean     Man City      Watford  HomeWin   \n",
       "937   2012/13 2012-12-23      P Dowd      Chelsea  Aston Villa  HomeWin   \n",
       "2733  2017/18 2017-10-14    C Pawson     Man City        Stoke  HomeWin   \n",
       "\n",
       "     Halftime  HomeGoals  HomeGoalsHalftime  HomeShots  ...  HomeYellowCards  \\\n",
       "405   HomeWin          8                  3         25  ...                2   \n",
       "1596  HomeWin          8                  3         20  ...                1   \n",
       "3474  HomeWin          8                  5         28  ...                2   \n",
       "937   HomeWin          8                  3         24  ...                0   \n",
       "2733  HomeWin          7                  3         20  ...                0   \n",
       "\n",
       "      HomeRedCards  AwayGoals  AwayGoalsHalftime  AwayShots  \\\n",
       "405              0          2                  1         19   \n",
       "1596             0          0                  0         12   \n",
       "3474             0          0                  0          5   \n",
       "937              0          0                  0          7   \n",
       "2733             0          2                  1          5   \n",
       "\n",
       "      AwayShotsOnTarget  AwayCorners  AwayFouls  AwayYellowCards  AwayRedCards  \n",
       "405                  13            5          7                3             1  \n",
       "1596                  1            6          8                3             0  \n",
       "3474                  4            4          9                2             0  \n",
       "937                   4            4         11                0             0  \n",
       "2733                  1            0          8                1             0  \n",
       "\n",
       "[5 rows x 23 columns]"
      ]
     },
     "execution_count": 39,
     "metadata": {},
     "output_type": "execute_result"
    }
   ],
   "source": [
    "df.iloc[df.HomeGoals.sort_values(ascending=False).index[0:5]]"
   ]
  },
  {
   "cell_type": "code",
   "execution_count": 40,
   "id": "5ffbbea9-0ff4-46f8-a5cf-fd75eba39de5",
   "metadata": {
    "tags": []
   },
   "outputs": [
    {
     "data": {
      "text/plain": [
       "['0', '2', '4', '1', '3', '6', '5', '7', '9']\n",
       "Categories (9, object): ['0', '1', '2', '3', ..., '5', '6', '7', '9']"
      ]
     },
     "execution_count": 40,
     "metadata": {},
     "output_type": "execute_result"
    }
   ],
   "source": [
    "#cat = CategoricalDtype(categories= y.AwayGoals.unique().astype('str'))\n",
    "y.AwayGoals = pd.Categorical(y.AwayGoals.astype(str))\n",
    "y.AwayGoals.unique() # category for 8 missing. "
   ]
  },
  {
   "cell_type": "code",
   "execution_count": 41,
   "id": "72306a41-6b9d-419f-9205-5df3f0a1282c",
   "metadata": {},
   "outputs": [
    {
     "data": {
      "text/html": [
       "<div>\n",
       "<style scoped>\n",
       "    .dataframe tbody tr th:only-of-type {\n",
       "        vertical-align: middle;\n",
       "    }\n",
       "\n",
       "    .dataframe tbody tr th {\n",
       "        vertical-align: top;\n",
       "    }\n",
       "\n",
       "    .dataframe thead th {\n",
       "        text-align: right;\n",
       "    }\n",
       "</style>\n",
       "<table border=\"1\" class=\"dataframe\">\n",
       "  <thead>\n",
       "    <tr style=\"text-align: right;\">\n",
       "      <th></th>\n",
       "      <th>Season</th>\n",
       "      <th>Date</th>\n",
       "      <th>Referee</th>\n",
       "      <th>HomeTeam</th>\n",
       "      <th>AwayTeam</th>\n",
       "      <th>FullTime</th>\n",
       "      <th>Halftime</th>\n",
       "      <th>HomeGoals</th>\n",
       "      <th>HomeGoalsHalftime</th>\n",
       "      <th>HomeShots</th>\n",
       "      <th>...</th>\n",
       "      <th>HomeYellowCards</th>\n",
       "      <th>HomeRedCards</th>\n",
       "      <th>AwayGoals</th>\n",
       "      <th>AwayGoalsHalftime</th>\n",
       "      <th>AwayShots</th>\n",
       "      <th>AwayShotsOnTarget</th>\n",
       "      <th>AwayCorners</th>\n",
       "      <th>AwayFouls</th>\n",
       "      <th>AwayYellowCards</th>\n",
       "      <th>AwayRedCards</th>\n",
       "    </tr>\n",
       "  </thead>\n",
       "  <tbody>\n",
       "    <tr>\n",
       "      <th>3510</th>\n",
       "      <td>2019/20</td>\n",
       "      <td>2019-10-25</td>\n",
       "      <td>A Marriner</td>\n",
       "      <td>Southampton</td>\n",
       "      <td>Leicester</td>\n",
       "      <td>AwayWin</td>\n",
       "      <td>AwayWin</td>\n",
       "      <td>0</td>\n",
       "      <td>0</td>\n",
       "      <td>6</td>\n",
       "      <td>...</td>\n",
       "      <td>0</td>\n",
       "      <td>1</td>\n",
       "      <td>9</td>\n",
       "      <td>5</td>\n",
       "      <td>25</td>\n",
       "      <td>15</td>\n",
       "      <td>7</td>\n",
       "      <td>12</td>\n",
       "      <td>0</td>\n",
       "      <td>0</td>\n",
       "    </tr>\n",
       "    <tr>\n",
       "      <th>2653</th>\n",
       "      <td>2016/17</td>\n",
       "      <td>2017-05-21</td>\n",
       "      <td>A Marriner</td>\n",
       "      <td>Hull</td>\n",
       "      <td>Tottenham</td>\n",
       "      <td>AwayWin</td>\n",
       "      <td>AwayWin</td>\n",
       "      <td>1</td>\n",
       "      <td>0</td>\n",
       "      <td>10</td>\n",
       "      <td>...</td>\n",
       "      <td>0</td>\n",
       "      <td>0</td>\n",
       "      <td>7</td>\n",
       "      <td>3</td>\n",
       "      <td>19</td>\n",
       "      <td>14</td>\n",
       "      <td>3</td>\n",
       "      <td>5</td>\n",
       "      <td>0</td>\n",
       "      <td>0</td>\n",
       "    </tr>\n",
       "    <tr>\n",
       "      <th>1099</th>\n",
       "      <td>2012/13</td>\n",
       "      <td>2013-04-27</td>\n",
       "      <td>A Marriner</td>\n",
       "      <td>Newcastle</td>\n",
       "      <td>Liverpool</td>\n",
       "      <td>AwayWin</td>\n",
       "      <td>AwayWin</td>\n",
       "      <td>0</td>\n",
       "      <td>0</td>\n",
       "      <td>5</td>\n",
       "      <td>...</td>\n",
       "      <td>3</td>\n",
       "      <td>1</td>\n",
       "      <td>6</td>\n",
       "      <td>2</td>\n",
       "      <td>11</td>\n",
       "      <td>10</td>\n",
       "      <td>7</td>\n",
       "      <td>7</td>\n",
       "      <td>2</td>\n",
       "      <td>0</td>\n",
       "    </tr>\n",
       "    <tr>\n",
       "      <th>16</th>\n",
       "      <td>2010/11</td>\n",
       "      <td>2010-08-21</td>\n",
       "      <td>M Dean</td>\n",
       "      <td>Wigan</td>\n",
       "      <td>Chelsea</td>\n",
       "      <td>AwayWin</td>\n",
       "      <td>AwayWin</td>\n",
       "      <td>0</td>\n",
       "      <td>0</td>\n",
       "      <td>17</td>\n",
       "      <td>...</td>\n",
       "      <td>1</td>\n",
       "      <td>0</td>\n",
       "      <td>6</td>\n",
       "      <td>1</td>\n",
       "      <td>10</td>\n",
       "      <td>8</td>\n",
       "      <td>0</td>\n",
       "      <td>7</td>\n",
       "      <td>2</td>\n",
       "      <td>0</td>\n",
       "    </tr>\n",
       "    <tr>\n",
       "      <th>467</th>\n",
       "      <td>2011/12</td>\n",
       "      <td>2011-10-23</td>\n",
       "      <td>M Clattenburg</td>\n",
       "      <td>Man United</td>\n",
       "      <td>Man City</td>\n",
       "      <td>AwayWin</td>\n",
       "      <td>AwayWin</td>\n",
       "      <td>1</td>\n",
       "      <td>0</td>\n",
       "      <td>12</td>\n",
       "      <td>...</td>\n",
       "      <td>4</td>\n",
       "      <td>1</td>\n",
       "      <td>6</td>\n",
       "      <td>1</td>\n",
       "      <td>19</td>\n",
       "      <td>12</td>\n",
       "      <td>4</td>\n",
       "      <td>11</td>\n",
       "      <td>4</td>\n",
       "      <td>0</td>\n",
       "    </tr>\n",
       "  </tbody>\n",
       "</table>\n",
       "<p>5 rows × 23 columns</p>\n",
       "</div>"
      ],
      "text/plain": [
       "       Season       Date        Referee     HomeTeam   AwayTeam FullTime  \\\n",
       "3510  2019/20 2019-10-25     A Marriner  Southampton  Leicester  AwayWin   \n",
       "2653  2016/17 2017-05-21     A Marriner         Hull  Tottenham  AwayWin   \n",
       "1099  2012/13 2013-04-27     A Marriner    Newcastle  Liverpool  AwayWin   \n",
       "16    2010/11 2010-08-21         M Dean        Wigan    Chelsea  AwayWin   \n",
       "467   2011/12 2011-10-23  M Clattenburg   Man United   Man City  AwayWin   \n",
       "\n",
       "     Halftime  HomeGoals  HomeGoalsHalftime  HomeShots  ...  HomeYellowCards  \\\n",
       "3510  AwayWin          0                  0          6  ...                0   \n",
       "2653  AwayWin          1                  0         10  ...                0   \n",
       "1099  AwayWin          0                  0          5  ...                3   \n",
       "16    AwayWin          0                  0         17  ...                1   \n",
       "467   AwayWin          1                  0         12  ...                4   \n",
       "\n",
       "      HomeRedCards  AwayGoals  AwayGoalsHalftime  AwayShots  \\\n",
       "3510             1          9                  5         25   \n",
       "2653             0          7                  3         19   \n",
       "1099             1          6                  2         11   \n",
       "16               0          6                  1         10   \n",
       "467              1          6                  1         19   \n",
       "\n",
       "      AwayShotsOnTarget  AwayCorners  AwayFouls  AwayYellowCards  AwayRedCards  \n",
       "3510                 15            7         12                0             0  \n",
       "2653                 14            3          5                0             0  \n",
       "1099                 10            7          7                2             0  \n",
       "16                    8            0          7                2             0  \n",
       "467                  12            4         11                4             0  \n",
       "\n",
       "[5 rows x 23 columns]"
      ]
     },
     "execution_count": 41,
     "metadata": {},
     "output_type": "execute_result"
    }
   ],
   "source": [
    "df.iloc[df.AwayGoals.sort_values(ascending=False).index[0:5]]"
   ]
  },
  {
   "cell_type": "code",
   "execution_count": 42,
   "id": "a904f591-ee8d-4409-a17e-aa8043438e60",
   "metadata": {},
   "outputs": [
    {
     "data": {
      "text/plain": [
       "HomeGoals    category\n",
       "AwayGoals    category\n",
       "FullTime     category\n",
       "Halftime     category\n",
       "dtype: object"
      ]
     },
     "execution_count": 42,
     "metadata": {},
     "output_type": "execute_result"
    }
   ],
   "source": [
    "y = y.merge(df.loc[:,['FullTime','Halftime']],left_index=True,right_index=True)\n",
    "y.dtypes \n",
    "# in retrospect Halftime & FullTime may enhance model for predictinng goals being independent variables, as scoreline would be easier to predict\n",
    "# knowing the outcome win/loss at two intervals. "
   ]
  },
  {
   "cell_type": "code",
   "execution_count": 43,
   "id": "dc7bdddc-9ad3-4214-9af3-5e42fac10462",
   "metadata": {},
   "outputs": [
    {
     "data": {
      "text/html": [
       "<div>\n",
       "<style scoped>\n",
       "    .dataframe tbody tr th:only-of-type {\n",
       "        vertical-align: middle;\n",
       "    }\n",
       "\n",
       "    .dataframe tbody tr th {\n",
       "        vertical-align: top;\n",
       "    }\n",
       "\n",
       "    .dataframe thead th {\n",
       "        text-align: right;\n",
       "    }\n",
       "</style>\n",
       "<table border=\"1\" class=\"dataframe\">\n",
       "  <thead>\n",
       "    <tr style=\"text-align: right;\">\n",
       "      <th></th>\n",
       "      <th>HomeGoals</th>\n",
       "      <th>AwayGoals</th>\n",
       "      <th>FullTime</th>\n",
       "      <th>Halftime</th>\n",
       "    </tr>\n",
       "  </thead>\n",
       "  <tbody>\n",
       "    <tr>\n",
       "      <th>0</th>\n",
       "      <td>3</td>\n",
       "      <td>0</td>\n",
       "      <td>HomeWin</td>\n",
       "      <td>HomeWin</td>\n",
       "    </tr>\n",
       "    <tr>\n",
       "      <th>1</th>\n",
       "      <td>1</td>\n",
       "      <td>0</td>\n",
       "      <td>HomeWin</td>\n",
       "      <td>HomeWin</td>\n",
       "    </tr>\n",
       "    <tr>\n",
       "      <th>2</th>\n",
       "      <td>0</td>\n",
       "      <td>0</td>\n",
       "      <td>Draw</td>\n",
       "      <td>Draw</td>\n",
       "    </tr>\n",
       "    <tr>\n",
       "      <th>3</th>\n",
       "      <td>6</td>\n",
       "      <td>0</td>\n",
       "      <td>HomeWin</td>\n",
       "      <td>HomeWin</td>\n",
       "    </tr>\n",
       "    <tr>\n",
       "      <th>4</th>\n",
       "      <td>2</td>\n",
       "      <td>2</td>\n",
       "      <td>Draw</td>\n",
       "      <td>HomeWin</td>\n",
       "    </tr>\n",
       "  </tbody>\n",
       "</table>\n",
       "</div>"
      ],
      "text/plain": [
       "  HomeGoals AwayGoals FullTime Halftime\n",
       "0         3         0  HomeWin  HomeWin\n",
       "1         1         0  HomeWin  HomeWin\n",
       "2         0         0     Draw     Draw\n",
       "3         6         0  HomeWin  HomeWin\n",
       "4         2         2     Draw  HomeWin"
      ]
     },
     "execution_count": 43,
     "metadata": {},
     "output_type": "execute_result"
    }
   ],
   "source": [
    "y.head()"
   ]
  },
  {
   "cell_type": "code",
   "execution_count": 44,
   "id": "df9fa300-9ea2-41dd-b383-2beace66950e",
   "metadata": {},
   "outputs": [
    {
     "data": {
      "text/html": [
       "<div>\n",
       "<style scoped>\n",
       "    .dataframe tbody tr th:only-of-type {\n",
       "        vertical-align: middle;\n",
       "    }\n",
       "\n",
       "    .dataframe tbody tr th {\n",
       "        vertical-align: top;\n",
       "    }\n",
       "\n",
       "    .dataframe thead th {\n",
       "        text-align: right;\n",
       "    }\n",
       "</style>\n",
       "<table border=\"1\" class=\"dataframe\">\n",
       "  <thead>\n",
       "    <tr style=\"text-align: right;\">\n",
       "      <th></th>\n",
       "      <th>HomeGoals</th>\n",
       "      <th>AwayGoals</th>\n",
       "      <th>FullTime_AwayWin</th>\n",
       "      <th>FullTime_Draw</th>\n",
       "      <th>FullTime_HomeWin</th>\n",
       "      <th>Halftime_AwayWin</th>\n",
       "      <th>Halftime_Draw</th>\n",
       "      <th>Halftime_HomeWin</th>\n",
       "    </tr>\n",
       "  </thead>\n",
       "  <tbody>\n",
       "    <tr>\n",
       "      <th>0</th>\n",
       "      <td>3</td>\n",
       "      <td>0</td>\n",
       "      <td>0</td>\n",
       "      <td>0</td>\n",
       "      <td>1</td>\n",
       "      <td>0</td>\n",
       "      <td>0</td>\n",
       "      <td>1</td>\n",
       "    </tr>\n",
       "    <tr>\n",
       "      <th>1</th>\n",
       "      <td>1</td>\n",
       "      <td>0</td>\n",
       "      <td>0</td>\n",
       "      <td>0</td>\n",
       "      <td>1</td>\n",
       "      <td>0</td>\n",
       "      <td>0</td>\n",
       "      <td>1</td>\n",
       "    </tr>\n",
       "    <tr>\n",
       "      <th>2</th>\n",
       "      <td>0</td>\n",
       "      <td>0</td>\n",
       "      <td>0</td>\n",
       "      <td>1</td>\n",
       "      <td>0</td>\n",
       "      <td>0</td>\n",
       "      <td>1</td>\n",
       "      <td>0</td>\n",
       "    </tr>\n",
       "    <tr>\n",
       "      <th>3</th>\n",
       "      <td>6</td>\n",
       "      <td>0</td>\n",
       "      <td>0</td>\n",
       "      <td>0</td>\n",
       "      <td>1</td>\n",
       "      <td>0</td>\n",
       "      <td>0</td>\n",
       "      <td>1</td>\n",
       "    </tr>\n",
       "    <tr>\n",
       "      <th>4</th>\n",
       "      <td>2</td>\n",
       "      <td>2</td>\n",
       "      <td>0</td>\n",
       "      <td>1</td>\n",
       "      <td>0</td>\n",
       "      <td>0</td>\n",
       "      <td>0</td>\n",
       "      <td>1</td>\n",
       "    </tr>\n",
       "  </tbody>\n",
       "</table>\n",
       "</div>"
      ],
      "text/plain": [
       "  HomeGoals AwayGoals  FullTime_AwayWin  FullTime_Draw  FullTime_HomeWin  \\\n",
       "0         3         0                 0              0                 1   \n",
       "1         1         0                 0              0                 1   \n",
       "2         0         0                 0              1                 0   \n",
       "3         6         0                 0              0                 1   \n",
       "4         2         2                 0              1                 0   \n",
       "\n",
       "   Halftime_AwayWin  Halftime_Draw  Halftime_HomeWin  \n",
       "0                 0              0                 1  \n",
       "1                 0              0                 1  \n",
       "2                 0              1                 0  \n",
       "3                 0              0                 1  \n",
       "4                 0              0                 1  "
      ]
     },
     "execution_count": 44,
     "metadata": {},
     "output_type": "execute_result"
    }
   ],
   "source": [
    "y = pd.get_dummies(data = y, drop_first=False, columns= ['FullTime','Halftime'])\n",
    "y.head()"
   ]
  },
  {
   "cell_type": "code",
   "execution_count": 45,
   "id": "44cc02c1-1694-451a-96dd-b4262cf41125",
   "metadata": {},
   "outputs": [
    {
     "data": {
      "text/plain": [
       "HomeGoals           category\n",
       "AwayGoals           category\n",
       "FullTime_AwayWin       uint8\n",
       "FullTime_Draw          uint8\n",
       "FullTime_HomeWin       uint8\n",
       "Halftime_AwayWin       uint8\n",
       "Halftime_Draw          uint8\n",
       "Halftime_HomeWin       uint8\n",
       "dtype: object"
      ]
     },
     "execution_count": 45,
     "metadata": {},
     "output_type": "execute_result"
    }
   ],
   "source": [
    "y.dtypes"
   ]
  },
  {
   "cell_type": "code",
   "execution_count": 46,
   "id": "242bc715-a881-49f4-97ff-de18db391928",
   "metadata": {},
   "outputs": [],
   "source": [
    "xtrain,xtest,ytrain,ytest = train_test_split(X,y)"
   ]
  },
  {
   "cell_type": "code",
   "execution_count": 47,
   "id": "1fa6df98-fd6f-4dca-9bf4-9b7f73bc0291",
   "metadata": {},
   "outputs": [],
   "source": [
    "tree = DecisionTreeClassifier(max_depth=10, min_samples_leaf=10)\n",
    "tmodel = tree.fit(xtrain, ytrain.iloc[:,0:2])"
   ]
  },
  {
   "cell_type": "code",
   "execution_count": 48,
   "id": "183241ca-355f-465c-a843-fb60994bdb68",
   "metadata": {},
   "outputs": [],
   "source": [
    "yhat = tmodel.predict(xtest)"
   ]
  },
  {
   "cell_type": "code",
   "execution_count": 49,
   "id": "4d159ff2-d715-439b-a0ff-6579e68099d6",
   "metadata": {},
   "outputs": [
    {
     "data": {
      "text/plain": [
       "{'acc for home goals': 0.44526315789473686}"
      ]
     },
     "metadata": {},
     "output_type": "display_data"
    },
    {
     "data": {
      "text/plain": [
       "array([[151,  77,   9,   0,   0,   0,   0],\n",
       "       [ 91, 126,  57,  17,   3,   2,   0],\n",
       "       [ 16,  57, 105,  38,   4,   3,   0],\n",
       "       [  3,  16,  55,  36,   5,   5,   0],\n",
       "       [  0,   5,  23,  13,   4,   3,   0],\n",
       "       [  0,   1,   6,   6,   5,   1,   0],\n",
       "       [  0,   0,   2,   1,   2,   2,   0]])"
      ]
     },
     "metadata": {},
     "output_type": "display_data"
    },
    {
     "data": {
      "text/plain": [
       "<AxesSubplot:>"
      ]
     },
     "execution_count": 49,
     "metadata": {},
     "output_type": "execute_result"
    },
    {
     "data": {
      "image/png": "[encoded data removed]",
      "text/plain": [
       "<Figure size 640x480 with 2 Axes>"
      ]
     },
     "metadata": {},
     "output_type": "display_data"
    }
   ],
   "source": [
    "c = confusion_matrix(ytest.iloc[:,0],yhat[:,0]) # error : multiclass-multio/p not supported\n",
    "display({'acc for home goals': accuracy_score(ytest.iloc[:,0],yhat[:,0])}, c)\n",
    "sns.heatmap(c)\n"
   ]
  },
  {
   "cell_type": "code",
   "execution_count": 50,
   "id": "9cdac126-9b9e-4d29-9f6a-cb8125e222fa",
   "metadata": {},
   "outputs": [
    {
     "data": {
      "text/plain": [
       "{'acc for home goals': 0.5042105263157894}"
      ]
     },
     "metadata": {},
     "output_type": "display_data"
    },
    {
     "data": {
      "text/plain": [
       "<AxesSubplot:>"
      ]
     },
     "execution_count": 50,
     "metadata": {},
     "output_type": "execute_result"
    },
    {
     "data": {
      "image/png": "[encoded data removed]",
      "text/plain": [
       "<Figure size 640x480 with 2 Axes>"
      ]
     },
     "metadata": {},
     "output_type": "display_data"
    }
   ],
   "source": [
    "c1 = confusion_matrix(ytest.iloc[:,1],yhat[:,1]) # away goals\n",
    "display({'acc for home goals':accuracy_score(ytest.iloc[:,1],yhat[:,1])})\n",
    "sns.heatmap(c1)\n"
   ]
  },
  {
   "cell_type": "code",
   "execution_count": 51,
   "id": "9d6401f3-e97c-44b3-a443-3b0bb8b7d09a",
   "metadata": {},
   "outputs": [
    {
     "name": "stdout",
     "output_type": "stream",
     "text": [
      "Home Goals prediction:\n",
      "\n",
      "               precision    recall  f1-score   support\n",
      "\n",
      "           0       0.58      0.64      0.61       237\n",
      "           1       0.45      0.43      0.44       296\n",
      "           2       0.41      0.47      0.44       223\n",
      "           3       0.32      0.30      0.31       120\n",
      "           4       0.17      0.08      0.11        48\n",
      "           5       0.06      0.05      0.06        19\n",
      "           6       0.00      0.00      0.00         7\n",
      "\n",
      "    accuracy                           0.45       950\n",
      "   macro avg       0.28      0.28      0.28       950\n",
      "weighted avg       0.43      0.45      0.44       950\n",
      " \n",
      "Away Goals prediction:\n",
      "\n",
      "               precision    recall  f1-score   support\n",
      "\n",
      "           0       0.63      0.77      0.69       324\n",
      "           1       0.43      0.38      0.40       302\n",
      "           2       0.43      0.43      0.43       192\n",
      "           3       0.37      0.36      0.36        95\n",
      "           4       0.00      0.00      0.00        21\n",
      "           5       0.00      0.00      0.00        11\n",
      "           6       0.00      0.00      0.00         5\n",
      "\n",
      "    accuracy                           0.50       950\n",
      "   macro avg       0.27      0.28      0.27       950\n",
      "weighted avg       0.48      0.50      0.49       950\n",
      "\n"
     ]
    }
   ],
   "source": [
    "print('Home Goals prediction:\\n\\n',classification_report(ytest.iloc[:,0],yhat[:,0], zero_division= 0),\\\n",
    "     '\\nAway Goals prediction:\\n\\n',classification_report(ytest.iloc[:,1],yhat[:,1], zero_division= 0))"
   ]
  },
  {
   "cell_type": "markdown",
   "id": "1ba71e8d-a178-40bd-b4eb-edfebe66c383",
   "metadata": {},
   "source": [
    "### apply class weights based on homegoals distribution. "
   ]
  },
  {
   "cell_type": "code",
   "execution_count": 52,
   "id": "8c75f74c-d3e3-4cd2-8883-16d4afc81a32",
   "metadata": {},
   "outputs": [],
   "source": [
    "class_weights_h = compute_class_weight('balanced',classes= y.HomeGoals.unique(), y = y.iloc[:,0] )\n",
    "#class_weights_a = compute_class_weight('balanced',classes= y.AwayGoals.unique(), y = y.iloc[:,1] )"
   ]
  },
  {
   "cell_type": "code",
   "execution_count": 53,
   "id": "d9f5d567-78ff-4667-8c28-5dac51f2d190",
   "metadata": {},
   "outputs": [],
   "source": [
    "tree1 = DecisionTreeClassifier(max_depth=10, min_samples_leaf=10, class_weight=class_weights_h)\n",
    "tmodel1 = tree.fit(xtrain, ytrain.iloc[:,0:2])\n",
    "yhat1 = tmodel1.predict(xtest)"
   ]
  },
  {
   "cell_type": "code",
   "execution_count": 54,
   "id": "854d2f91-4bac-4e34-93f1-7a90f44e17c5",
   "metadata": {},
   "outputs": [
    {
     "name": "stdout",
     "output_type": "stream",
     "text": [
      "Home Goals prediction:\n",
      "\n",
      "               precision    recall  f1-score   support\n",
      "\n",
      "           0       0.58      0.64      0.61       237\n",
      "           1       0.45      0.43      0.44       296\n",
      "           2       0.41      0.47      0.44       223\n",
      "           3       0.32      0.30      0.31       120\n",
      "           4       0.17      0.08      0.11        48\n",
      "           5       0.06      0.05      0.06        19\n",
      "           6       0.00      0.00      0.00         7\n",
      "\n",
      "    accuracy                           0.45       950\n",
      "   macro avg       0.28      0.28      0.28       950\n",
      "weighted avg       0.43      0.45      0.44       950\n",
      " \n",
      "Away Goals prediction:\n",
      "\n",
      "               precision    recall  f1-score   support\n",
      "\n",
      "           0       0.63      0.77      0.69       324\n",
      "           1       0.43      0.38      0.40       302\n",
      "           2       0.43      0.43      0.43       192\n",
      "           3       0.37      0.36      0.36        95\n",
      "           4       0.00      0.00      0.00        21\n",
      "           5       0.00      0.00      0.00        11\n",
      "           6       0.00      0.00      0.00         5\n",
      "\n",
      "    accuracy                           0.50       950\n",
      "   macro avg       0.27      0.28      0.27       950\n",
      "weighted avg       0.48      0.50      0.49       950\n",
      "\n"
     ]
    }
   ],
   "source": [
    "print('Home Goals prediction:\\n\\n',classification_report(ytest.iloc[:,0],yhat1[:,0], zero_division= 0),\\\n",
    "     '\\nAway Goals prediction:\\n\\n',classification_report(ytest.iloc[:,1],yhat1[:,1], zero_division= 0))\n"
   ]
  },
  {
   "cell_type": "markdown",
   "id": "c82eb9eb-0137-4327-a71a-93386582b264",
   "metadata": {},
   "source": []
  },
  {
   "cell_type": "code",
   "execution_count": null,
   "id": "72efd3d8-e088-4850-966c-2367834f9e94",
   "metadata": {},
   "outputs": [],
   "source": []
  },
  {
   "cell_type": "code",
   "execution_count": null,
   "id": "f75eaa0d-2a8b-4ec0-8883-0be0471e1ebb",
   "metadata": {},
   "outputs": [],
   "source": []
  }
 ],
 "metadata": {
  "kernelspec": {
   "display_name": "Python 3 (ipykernel)",
   "language": "python",
   "name": "python3"
  },
  "language_info": {
   "codemirror_mode": {
    "name": "ipython",
    "version": 3
   },
   "file_extension": ".py",
   "mimetype": "text/x-python",
   "name": "python",
   "nbconvert_exporter": "python",
   "pygments_lexer": "ipython3",
   "version": "3.9.7"
  }
 },
 "nbformat": 4,
 "nbformat_minor": 5
}
